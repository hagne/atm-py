{
 "cells": [
  {
   "cell_type": "markdown",
   "metadata": {
    "collapsed": true
   },
   "source": [
    "# Run the test "
   ]
  },
  {
   "cell_type": "code",
   "execution_count": 1,
   "metadata": {
    "ExecuteTime": {
     "end_time": "2018-04-05T17:12:52.220962Z",
     "start_time": "2018-04-05T17:12:51.392450Z"
    },
    "run_control": {
     "marked": true
    }
   },
   "outputs": [],
   "source": [
    "import atmPy\n",
    "from atmPy.unit_testing import run_nose_tests\n",
    "from atmPy.unit_testing import nose_tests\n",
    "plt.style.use('hagen_default')"
   ]
  },
  {
   "cell_type": "code",
   "execution_count": 2,
   "metadata": {
    "ExecuteTime": {
     "end_time": "2017-09-01T16:23:54.378020Z",
     "start_time": "2017-09-01T16:23:54.365789Z"
    },
    "deletable": false,
    "editable": false,
    "run_control": {
     "frozen": true
    }
   },
   "outputs": [
    {
     "data": {
      "text/plain": [
       "<module 'atmPy.unit_testing.nose_tests' from '/Users/htelg/prog/atm-py/atmPy/unit_testing/nose_tests.py'>"
      ]
     },
     "execution_count": 2,
     "metadata": {},
     "output_type": "execute_result"
    }
   ],
   "source": [
    "reload(run_nose_tests)\n",
    "reload(nose_tests)"
   ]
  },
  {
   "cell_type": "markdown",
   "metadata": {},
   "source": [
    "## all"
   ]
  },
  {
   "cell_type": "code",
   "execution_count": 2,
   "metadata": {
    "ExecuteTime": {
     "end_time": "2018-04-05T17:18:55.121270Z",
     "start_time": "2018-04-05T17:12:53.968098Z"
    }
   },
   "outputs": [
    {
     "name": "stdout",
     "output_type": "stream",
     "text": [
      "/opt/local/Library/Frameworks/Python.framework/Versions/3.5/lib/python3.5/site-packages/xarray/core/formatting.py:16: FutureWarning: The pandas.tslib module is deprecated and will be removed in a future version.\n",
      "  from pandas.tslib import OutOfBoundsDatetime\n",
      "./Users/htelg/prog/atm-py/atmPy/aerosols/instruments/AMS/AMS.py:63: UserWarning: Sulfate rich is not implemented yet. Mostly because I don't get it!\n",
      "         There are not supposed to be any Nitrates or Chlorides present when we are in the sulfate rich regime ... but there are.\n",
      "         I guess it has to do with the organics? Talk to chuck\n",
      "  _warnings.warn(txt)\n",
      "/Users/htelg/prog/atm-py/atmPy/file_io.py:96: RuntimeWarning: invalid value encountered in greater\n",
      "  ts_data = _pd.DataFrame(var_data[:], index=index)\n",
      "/Users/htelg/prog/atm-py/atmPy/file_io.py:100: RuntimeWarning: invalid value encountered in greater\n",
      "  ts_data = _pd.DataFrame(var_data[:], index=index,\n",
      "/opt/local/Library/Frameworks/Python.framework/Versions/3.5/lib/python3.5/site-packages/numpy/core/fromnumeric.py:2957: RuntimeWarning: Mean of empty slice.\n",
      "  out=out, **kwargs)\n",
      "/opt/local/Library/Frameworks/Python.framework/Versions/3.5/lib/python3.5/site-packages/numpy/core/_methods.py:80: RuntimeWarning: invalid value encountered in double_scalars\n",
      "  ret = ret.dtype.type(ret / rcount)\n",
      "/Users/htelg/prog/atm-py/atmPy/aerosols/physics/optical_properties.py:112: RuntimeWarning: invalid value encountered in true_divide\n",
      "  y_phase_func = y_1p * 4 * _np.pi / scattering_cross_eff.sum()\n",
      "........\n",
      "----------------------------------------------------------------------\n",
      "Ran 9 tests in 358.089s\n",
      "\n",
      "OK\n"
     ]
    }
   ],
   "source": [
    "run_nose_tests.run()"
   ]
  },
  {
   "cell_type": "code",
   "execution_count": null,
   "metadata": {},
   "outputs": [],
   "source": []
  },
  {
   "cell_type": "markdown",
   "metadata": {},
   "source": [
    "## onebyone"
   ]
  },
  {
   "cell_type": "code",
   "execution_count": 5,
   "metadata": {
    "ExecuteTime": {
     "end_time": "2016-12-28T15:26:32.180420",
     "start_time": "2016-12-28T15:26:32.174590"
    }
   },
   "outputs": [
    {
     "data": {
      "text/plain": [
       "<module 'atmPy.unit_testing.nose_tests' from '/Users/htelg/prog/atm-py/atmPy/unit_testing/nose_tests.py'>"
      ]
     },
     "execution_count": 5,
     "metadata": {},
     "output_type": "execute_result"
    }
   ],
   "source": [
    "reload(nose_tests)"
   ]
  },
  {
   "cell_type": "code",
   "execution_count": 1,
   "metadata": {
    "ExecuteTime": {
     "end_time": "2016-12-28T16:22:33.036281",
     "start_time": "2016-12-28T16:22:32.645230"
    },
    "collapsed": true
   },
   "outputs": [],
   "source": [
    "from atmPy.unit_testing import run_nose_tests\n",
    "from atmPy.unit_testing import nose_tests"
   ]
  },
  {
   "cell_type": "code",
   "execution_count": 3,
   "metadata": {
    "ExecuteTime": {
     "end_time": "2017-01-31T18:14:58.132293",
     "start_time": "2017-01-31T18:14:57.936359"
    }
   },
   "outputs": [
    {
     "ename": "TypeError",
     "evalue": "'float' object cannot be interpreted as an integer",
     "output_type": "error",
     "traceback": [
      "\u001b[0;31m---------------------------------------------------------------------------\u001b[0m",
      "\u001b[0;31mTypeError\u001b[0m                                 Traceback (most recent call last)",
      "\u001b[0;32m<ipython-input-3-e02ce5f455b0>\u001b[0m in \u001b[0;36m<module>\u001b[0;34m()\u001b[0m\n\u001b[1;32m      1\u001b[0m \u001b[0mtest\u001b[0m \u001b[0;34m=\u001b[0m \u001b[0mnose_tests\u001b[0m\u001b[0;34m.\u001b[0m\u001b[0mSizeDistTest\u001b[0m\u001b[0;34m(\u001b[0m\u001b[0;34m)\u001b[0m\u001b[0;34m\u001b[0m\u001b[0m\n\u001b[0;32m----> 2\u001b[0;31m \u001b[0mtest\u001b[0m\u001b[0;34m.\u001b[0m\u001b[0mtest_mixing_ratios\u001b[0m\u001b[0;34m(\u001b[0m\u001b[0;34m)\u001b[0m\u001b[0;34m\u001b[0m\u001b[0m\n\u001b[0m",
      "\u001b[0;32m/Users/htelg/prog/atm-py/atmPy/unit_testing/nose_tests.py\u001b[0m in \u001b[0;36mtest_mixing_ratios\u001b[0;34m(self)\u001b[0m\n\u001b[1;32m     74\u001b[0m                                                                                      \u001b[0mstartDate\u001b[0m\u001b[0;34m=\u001b[0m\u001b[0;34m'2015-10-23 16:00:00'\u001b[0m\u001b[0;34m,\u001b[0m\u001b[0;34m\u001b[0m\u001b[0m\n\u001b[1;32m     75\u001b[0m                                                                                      \u001b[0mendDate\u001b[0m\u001b[0;34m=\u001b[0m\u001b[0;34m'2015-10-23 17:00:00'\u001b[0m\u001b[0;34m,\u001b[0m\u001b[0;34m\u001b[0m\u001b[0m\n\u001b[0;32m---> 76\u001b[0;31m                                                                                      frequency=60)\n\u001b[0m\u001b[1;32m     77\u001b[0m \u001b[0;34m\u001b[0m\u001b[0m\n\u001b[1;32m     78\u001b[0m         \u001b[0msd\u001b[0m\u001b[0;34m.\u001b[0m\u001b[0mdata\u001b[0m \u001b[0;34m=\u001b[0m \u001b[0msd\u001b[0m\u001b[0;34m.\u001b[0m\u001b[0mdata\u001b[0m\u001b[0;34m.\u001b[0m\u001b[0miloc\u001b[0m\u001b[0;34m[\u001b[0m\u001b[0;34m[\u001b[0m\u001b[0;36m0\u001b[0m\u001b[0;34m]\u001b[0m\u001b[0;34m,\u001b[0m \u001b[0;34m:\u001b[0m\u001b[0;34m]\u001b[0m\u001b[0;34m\u001b[0m\u001b[0m\n",
      "\u001b[0;32m/Users/htelg/prog/atm-py/atmPy/aerosols/size_distribution/sizedistribution.py\u001b[0m in \u001b[0;36msimulate_sizedistribution_timeseries\u001b[0;34m(diameter, numberOfDiameters, centerOfAerosolMode, widthOfAerosolMode, numberOfParticsInMode, startDate, endDate, frequency)\u001b[0m\n\u001b[1;32m   2747\u001b[0m \u001b[0;34m\u001b[0m\u001b[0m\n\u001b[1;32m   2748\u001b[0m     \u001b[0moszi\u001b[0m \u001b[0;34m=\u001b[0m \u001b[0m_np\u001b[0m\u001b[0;34m.\u001b[0m\u001b[0mlinspace\u001b[0m\u001b[0;34m(\u001b[0m\u001b[0;36m0\u001b[0m\u001b[0;34m,\u001b[0m \u001b[0mnoOfOsz\u001b[0m \u001b[0;34m*\u001b[0m \u001b[0;36m2\u001b[0m \u001b[0;34m*\u001b[0m \u001b[0m_np\u001b[0m\u001b[0;34m.\u001b[0m\u001b[0mpi\u001b[0m\u001b[0;34m,\u001b[0m \u001b[0mperiods\u001b[0m\u001b[0;34m)\u001b[0m\u001b[0;34m\u001b[0m\u001b[0m\n\u001b[0;32m-> 2749\u001b[0;31m     \u001b[0msdArray\u001b[0m \u001b[0;34m=\u001b[0m \u001b[0m_np\u001b[0m\u001b[0;34m.\u001b[0m\u001b[0mzeros\u001b[0m\u001b[0;34m(\u001b[0m\u001b[0;34m(\u001b[0m\u001b[0mperiods\u001b[0m\u001b[0;34m,\u001b[0m \u001b[0mnumberOfDiameters\u001b[0m \u001b[0;34m-\u001b[0m \u001b[0;36m1\u001b[0m\u001b[0;34m)\u001b[0m\u001b[0;34m)\u001b[0m\u001b[0;34m\u001b[0m\u001b[0m\n\u001b[0m\u001b[1;32m   2750\u001b[0m     \u001b[0;32mfor\u001b[0m \u001b[0me\u001b[0m\u001b[0;34m,\u001b[0m \u001b[0mi\u001b[0m \u001b[0;32min\u001b[0m \u001b[0menumerate\u001b[0m\u001b[0;34m(\u001b[0m\u001b[0mrng\u001b[0m\u001b[0;34m)\u001b[0m\u001b[0;34m:\u001b[0m\u001b[0;34m\u001b[0m\u001b[0m\n\u001b[1;32m   2751\u001b[0m         sdtmp = simulate_sizedistribution(diameter=diameter,\n",
      "\u001b[0;31mTypeError\u001b[0m: 'float' object cannot be interpreted as an integer"
     ]
    }
   ],
   "source": [
    "test = nose_tests.SizeDistTest()\n",
    "test.test_mixing_ratios()\n"
   ]
  },
  {
   "cell_type": "markdown",
   "metadata": {},
   "source": [
    "# data_archives"
   ]
  },
  {
   "cell_type": "markdown",
   "metadata": {},
   "source": [
    "## ARM"
   ]
  },
  {
   "cell_type": "code",
   "execution_count": 1,
   "metadata": {
    "ExecuteTime": {
     "end_time": "2016-12-20T19:50:35.939192",
     "start_time": "2016-12-20T19:50:35.486045"
    },
    "collapsed": true
   },
   "outputs": [],
   "source": [
    "from atmPy.data_archives import arm"
   ]
  },
  {
   "cell_type": "code",
   "execution_count": 2,
   "metadata": {
    "ExecuteTime": {
     "end_time": "2016-12-20T19:50:35.947951",
     "start_time": "2016-12-20T19:50:35.941263"
    }
   },
   "outputs": [
    {
     "data": {
      "text/plain": [
       "dict_keys(['tdmasize', 'aipfitrh1ogrenC1', 'noaaaos', 'aosacsm', '1twr10xC1', 'tdmahyg', 'tdmaapssize'])"
      ]
     },
     "execution_count": 2,
     "metadata": {},
     "output_type": "execute_result"
    }
   ],
   "source": [
    "arm.arm_products.keys()"
   ]
  },
  {
   "cell_type": "code",
   "execution_count": 15,
   "metadata": {
    "ExecuteTime": {
     "end_time": "2017-09-01T02:52:57.008167Z",
     "start_time": "2017-09-01T02:52:57.004177Z"
    },
    "collapsed": true
   },
   "outputs": [],
   "source": [
    "fname = './test_data/'"
   ]
  },
  {
   "cell_type": "markdown",
   "metadata": {},
   "source": [
    "### 1twr10xC1"
   ]
  },
  {
   "cell_type": "code",
   "execution_count": 2,
   "metadata": {
    "ExecuteTime": {
     "end_time": "2017-09-01T03:54:31.475609Z",
     "start_time": "2017-09-01T03:54:31.053252Z"
    },
    "scrolled": false
   },
   "outputs": [],
   "source": [
    "# %%debug -b /Users/htelg/prog/atm-py/atmPy/data_archives/arm/_1twr10xC1.py:44\n",
    "# %%debug -b /Users/htelg/prog/atm-py/atmPy/data_archives/arm/_read_data.py:193\n",
    "\n",
    "# %%debug -b /Users/htelg/prog/atm-py/atmPy/general/timeseries.py:327\n",
    "# # create the test file\n",
    "fname = './test_data/'\n",
    "out = atmPy.data_archives.arm.read_netCDF(fname, data_product='1twr10xC1')\n",
    "out = out['1twr10xC1']\n",
    "# out.relative_humidity.data.to_csv(fname+'1twr10xC1_rh.csv')\n",
    "# out.temperature.data.to_csv(fname+'1twr10xC1_temp.csv')\n",
    "# out.vapor_pressure.data.to_csv(fname + '1twr10xC1_p_vapor.csv')"
   ]
  },
  {
   "cell_type": "code",
   "execution_count": 4,
   "metadata": {
    "ExecuteTime": {
     "end_time": "2017-09-01T03:53:09.567046Z",
     "start_time": "2017-09-01T03:53:09.563397Z"
    },
    "collapsed": true
   },
   "outputs": [],
   "source": [
    "from copy import deepcopy"
   ]
  },
  {
   "cell_type": "code",
   "execution_count": 2,
   "metadata": {
    "ExecuteTime": {
     "end_time": "2017-09-01T03:52:52.404565Z",
     "start_time": "2017-09-01T03:49:29.841990Z"
    }
   },
   "outputs": [
    {
     "name": "stdout",
     "output_type": "stream",
     "text": [
      "Breakpoint 1 at /Users/htelg/prog/atm-py/atmPy/data_archives/arm/_read_data.py:178\n",
      "NOTE: Enter 'c' at the ipdb>  prompt to continue execution.\n",
      "> \u001b[0;32m/Users/htelg/prog/atm-py/atmPy/data_archives/arm/_read_data.py\u001b[0m(118)\u001b[0;36mread_cdf\u001b[0;34m()\u001b[0m\n",
      "\u001b[0;32m    116 \u001b[0;31m\u001b[0;34m\u001b[0m\u001b[0m\n",
      "\u001b[0m\u001b[0;32m    117 \u001b[0;31m    \u001b[0;31m# list or single file\u001b[0m\u001b[0;34m\u001b[0m\u001b[0;34m\u001b[0m\u001b[0m\n",
      "\u001b[0m\u001b[0;32m--> 118 \u001b[0;31m    \u001b[0;32mif\u001b[0m \u001b[0mtype\u001b[0m\u001b[0;34m(\u001b[0m\u001b[0mfname\u001b[0m\u001b[0;34m)\u001b[0m \u001b[0;34m==\u001b[0m \u001b[0mstr\u001b[0m\u001b[0;34m:\u001b[0m\u001b[0;34m\u001b[0m\u001b[0m\n",
      "\u001b[0m\u001b[0;32m    119 \u001b[0;31m        \u001b[0;32mif\u001b[0m \u001b[0mfname\u001b[0m\u001b[0;34m[\u001b[0m\u001b[0;34m-\u001b[0m\u001b[0;36m1\u001b[0m\u001b[0;34m]\u001b[0m \u001b[0;34m==\u001b[0m \u001b[0;34m'/'\u001b[0m\u001b[0;34m:\u001b[0m\u001b[0;34m\u001b[0m\u001b[0m\n",
      "\u001b[0m\u001b[0;32m    120 \u001b[0;31m            \u001b[0mf\u001b[0m \u001b[0;34m=\u001b[0m \u001b[0m_os\u001b[0m\u001b[0;34m.\u001b[0m\u001b[0mlistdir\u001b[0m\u001b[0;34m(\u001b[0m\u001b[0mfname\u001b[0m\u001b[0;34m)\u001b[0m\u001b[0;34m\u001b[0m\u001b[0m\n",
      "\u001b[0m\n",
      "ipdb> c\n",
      "> \u001b[0;32m/Users/htelg/prog/atm-py/atmPy/data_archives/arm/_read_data.py\u001b[0m(178)\u001b[0;36mread_cdf\u001b[0;34m()\u001b[0m\n",
      "\u001b[0;32m    176 \u001b[0;31m        \u001b[0;31m# pdb.set_trace()\u001b[0m\u001b[0;34m\u001b[0m\u001b[0;34m\u001b[0m\u001b[0m\n",
      "\u001b[0m\u001b[0;32m    177 \u001b[0;31m\u001b[0;34m\u001b[0m\u001b[0m\n",
      "\u001b[0m\u001b[1;31m1\u001b[0;32m-> 178 \u001b[0;31m        \u001b[0mno_valid\u001b[0m \u001b[0;34m+=\u001b[0m \u001b[0;36m1\u001b[0m\u001b[0;34m\u001b[0m\u001b[0m\n",
      "\u001b[0m\u001b[0;32m    179 \u001b[0;31m        \u001b[0;32mif\u001b[0m \u001b[0marm_file_object\u001b[0m\u001b[0;34m.\u001b[0m\u001b[0m_parsing_error\u001b[0m\u001b[0;34m:\u001b[0m\u001b[0;34m\u001b[0m\u001b[0m\n",
      "\u001b[0m\u001b[0;32m    180 \u001b[0;31m            \u001b[0;32mcontinue\u001b[0m\u001b[0;34m\u001b[0m\u001b[0m\n",
      "\u001b[0m\n",
      "ipdb> dir(arm_file_object)\n",
      "['_ArmDataset__time_stamps', '__class__', '__delattr__', '__dict__', '__dir__', '__doc__', '__eq__', '__format__', '__ge__', '__getattribute__', '__gt__', '__hash__', '__init__', '__le__', '__lt__', '__module__', '__ne__', '__new__', '__reduce__', '__reduce_ex__', '__repr__', '__setattr__', '__sizeof__', '__str__', '__subclasshook__', '__weakref__', '_close', '_concat', '_data_period', '_data_quality_control', '_error_bad_file', '_get_variable_info', '_parse_netCDF', '_parsing_error', '_read_variable', '_read_variable2timeseries', '_time_offset', 'data_quality', 'data_quality_flag_max', 'netCDF', 'plot_all', 'relative_humidity', 'temperature', 'time_stamps', 'vapor_pressure']\n",
      "ipdb> delattr(arm_file_object, 'netCDF')\n",
      "ipdb> c\n"
     ]
    }
   ],
   "source": [
    "%%debug -b /Users/htelg/prog/atm-py/atmPy/data_archives/arm/_read_data.py:178\n",
    "fname = './test_data/sgp1twr10xC1.b1.20120201.000000.cdf'\n",
    "out = atmPy.data_archives.arm.read_netCDF(fname, data_product='1twr10xC1')\n"
   ]
  },
  {
   "cell_type": "code",
   "execution_count": null,
   "metadata": {
    "collapsed": true
   },
   "outputs": [],
   "source": []
  },
  {
   "cell_type": "code",
   "execution_count": 30,
   "metadata": {
    "ExecuteTime": {
     "end_time": "2017-09-01T03:31:08.624768Z",
     "start_time": "2017-09-01T03:31:08.619944Z"
    }
   },
   "outputs": [],
   "source": [
    "bla = deepcopy(out.relative_humidity.data)"
   ]
  },
  {
   "cell_type": "code",
   "execution_count": 36,
   "metadata": {
    "ExecuteTime": {
     "end_time": "2017-09-01T03:36:08.222399Z",
     "start_time": "2017-09-01T03:36:08.216006Z"
    }
   },
   "outputs": [],
   "source": [
    "bla = atmPy.general.timeseries.TimeSeries(out.relative_humidity.data)"
   ]
  },
  {
   "cell_type": "code",
   "execution_count": 40,
   "metadata": {
    "ExecuteTime": {
     "end_time": "2017-09-01T03:37:37.244665Z",
     "start_time": "2017-09-01T03:37:37.235168Z"
    }
   },
   "outputs": [
    {
     "data": {
      "text/plain": [
       "60.0"
      ]
     },
     "execution_count": 40,
     "metadata": {},
     "output_type": "execute_result"
    }
   ],
   "source": [
    "out.relative_humidity._data_period"
   ]
  },
  {
   "cell_type": "code",
   "execution_count": 42,
   "metadata": {
    "ExecuteTime": {
     "end_time": "2017-09-01T03:38:08.492362Z",
     "start_time": "2017-09-01T03:38:08.486233Z"
    }
   },
   "outputs": [],
   "source": [
    "delattr(out, 'netCDF')"
   ]
  },
  {
   "cell_type": "code",
   "execution_count": 5,
   "metadata": {
    "ExecuteTime": {
     "end_time": "2017-09-01T03:53:12.683777Z",
     "start_time": "2017-09-01T03:53:12.666375Z"
    }
   },
   "outputs": [
    {
     "data": {
      "text/plain": [
       "Relative Humidity (%)     rh_25m     rh_60m\n",
       "Time                                       \n",
       "2012-01-31 23:59:00    32.917000  31.136999\n",
       "2012-02-01 00:00:00    33.081001  31.191000\n",
       "2012-02-01 00:01:00    33.257999  31.441000\n",
       "2012-02-01 00:02:00    33.442001  31.041000\n",
       "2012-02-01 00:03:00    33.630001  30.471001\n",
       "2012-02-01 00:04:00    33.682999  30.465000\n",
       "2012-02-01 00:05:00    33.852001  30.382999\n",
       "2012-02-01 00:06:00    33.974998  30.028000\n",
       "2012-02-01 00:07:00    33.938999  30.389000\n",
       "2012-02-01 00:08:00    34.129002  30.398001\n",
       "2012-02-01 00:09:00    34.148998  30.436001\n",
       "2012-02-01 00:10:00    34.270000  29.899000\n",
       "2012-02-01 00:11:00    34.377998  29.811001\n",
       "2012-02-01 00:12:00    34.401001  29.850000\n",
       "2012-02-01 00:13:00    34.223000  30.138000\n",
       "2012-02-01 00:14:00    34.096001  30.354000\n",
       "2012-02-01 00:15:00    34.103001  30.493999\n",
       "2012-02-01 00:16:00    34.098000  30.521999\n",
       "2012-02-01 00:17:00    33.966000  30.483000\n",
       "2012-02-01 00:18:00    34.074001  30.455999\n",
       "2012-02-01 00:19:00    34.247002  30.451000\n",
       "2012-02-01 00:20:00    34.401001  30.455000\n",
       "2012-02-01 00:21:00    34.539001  30.375000\n",
       "2012-02-01 00:22:00    34.687000  30.351999\n",
       "2012-02-01 00:23:00    34.919998  30.422001\n",
       "2012-02-01 00:24:00    35.192001  30.452999\n",
       "2012-02-01 00:25:00    35.132000  30.445999\n",
       "2012-02-01 00:26:00    35.168999  30.427000\n",
       "2012-02-01 00:27:00    35.327000  30.469999\n",
       "2012-02-01 00:28:00    35.400002  30.480000\n",
       "...                          ...        ...\n",
       "2012-02-01 23:29:00    32.146000  32.268002\n",
       "2012-02-01 23:30:00    32.279999  32.382999\n",
       "2012-02-01 23:31:00    32.319000  32.282001\n",
       "2012-02-01 23:32:00    32.317001  32.306999\n",
       "2012-02-01 23:33:00    32.396000  32.431000\n",
       "2012-02-01 23:34:00    32.507000  32.347000\n",
       "2012-02-01 23:35:00    32.536999  32.298000\n",
       "2012-02-01 23:36:00    32.493000  32.249001\n",
       "2012-02-01 23:37:00    32.641998  32.320999\n",
       "2012-02-01 23:38:00    32.622002  32.412998\n",
       "2012-02-01 23:39:00    32.581001  32.387001\n",
       "2012-02-01 23:40:00    32.365002  32.273998\n",
       "2012-02-01 23:41:00    32.157001  32.081001\n",
       "2012-02-01 23:42:00    31.979000  32.094002\n",
       "2012-02-01 23:43:00    32.111000  32.014999\n",
       "2012-02-01 23:44:00    32.050999  32.042999\n",
       "2012-02-01 23:45:00    32.143002  32.389000\n",
       "2012-02-01 23:46:00    32.423000  32.622002\n",
       "2012-02-01 23:47:00    32.768002  32.898998\n",
       "2012-02-01 23:48:00    32.990002  33.001999\n",
       "2012-02-01 23:49:00    33.252998  32.872002\n",
       "2012-02-01 23:50:00    33.612000  32.901001\n",
       "2012-02-01 23:51:00    34.245998  32.875999\n",
       "2012-02-01 23:52:00    34.353001  32.832001\n",
       "2012-02-01 23:53:00    33.876999  32.984001\n",
       "2012-02-01 23:54:00    33.452000  33.057999\n",
       "2012-02-01 23:55:00    33.453999  33.250999\n",
       "2012-02-01 23:56:00    33.341000  33.234001\n",
       "2012-02-01 23:57:00    33.368000  33.227001\n",
       "2012-02-01 23:58:00    33.469002  33.230999\n",
       "\n",
       "[1440 rows x 2 columns]"
      ]
     },
     "execution_count": 5,
     "metadata": {},
     "output_type": "execute_result"
    }
   ],
   "source": [
    "deepcopy(out.relative_humidity)"
   ]
  },
  {
   "cell_type": "code",
   "execution_count": null,
   "metadata": {
    "collapsed": true
   },
   "outputs": [],
   "source": []
  },
  {
   "cell_type": "code",
   "execution_count": null,
   "metadata": {
    "collapsed": true
   },
   "outputs": [],
   "source": []
  },
  {
   "cell_type": "code",
   "execution_count": null,
   "metadata": {
    "collapsed": true
   },
   "outputs": [],
   "source": []
  },
  {
   "cell_type": "code",
   "execution_count": null,
   "metadata": {
    "collapsed": true
   },
   "outputs": [],
   "source": []
  },
  {
   "cell_type": "code",
   "execution_count": null,
   "metadata": {
    "collapsed": true
   },
   "outputs": [],
   "source": []
  },
  {
   "cell_type": "code",
   "execution_count": 27,
   "metadata": {
    "ExecuteTime": {
     "end_time": "2017-09-01T03:26:51.122473Z",
     "start_time": "2017-09-01T03:26:51.066448Z"
    }
   },
   "outputs": [
    {
     "ename": "NotImplementedError",
     "evalue": "Dataset is not picklable",
     "output_type": "error",
     "traceback": [
      "\u001b[0;31m---------------------------------------------------------------------------\u001b[0m",
      "\u001b[0;31mNotImplementedError\u001b[0m                       Traceback (most recent call last)",
      "\u001b[0;32m<ipython-input-27-87b00a2f1138>\u001b[0m in \u001b[0;36m<module>\u001b[0;34m()\u001b[0m\n\u001b[0;32m----> 1\u001b[0;31m \u001b[0mout\u001b[0m\u001b[0;34m.\u001b[0m\u001b[0mrelative_humidity\u001b[0m\u001b[0;34m.\u001b[0m\u001b[0mcopy\u001b[0m\u001b[0;34m(\u001b[0m\u001b[0;34m)\u001b[0m\u001b[0;34m\u001b[0m\u001b[0m\n\u001b[0m",
      "\u001b[0;32m/opt/local/Library/Frameworks/Python.framework/Versions/3.5/lib/python3.5/copy.py\u001b[0m in \u001b[0;36mdeepcopy\u001b[0;34m(x, memo, _nil)\u001b[0m\n\u001b[1;32m    180\u001b[0m                             raise Error(\n\u001b[1;32m    181\u001b[0m                                 \"un(deep)copyable object of type %s\" % cls)\n\u001b[0;32m--> 182\u001b[0;31m                 \u001b[0my\u001b[0m \u001b[0;34m=\u001b[0m \u001b[0m_reconstruct\u001b[0m\u001b[0;34m(\u001b[0m\u001b[0mx\u001b[0m\u001b[0;34m,\u001b[0m \u001b[0mrv\u001b[0m\u001b[0;34m,\u001b[0m \u001b[0;36m1\u001b[0m\u001b[0;34m,\u001b[0m \u001b[0mmemo\u001b[0m\u001b[0;34m)\u001b[0m\u001b[0;34m\u001b[0m\u001b[0m\n\u001b[0m\u001b[1;32m    183\u001b[0m \u001b[0;34m\u001b[0m\u001b[0m\n\u001b[1;32m    184\u001b[0m     \u001b[0;31m# If is its own copy, don't memoize.\u001b[0m\u001b[0;34m\u001b[0m\u001b[0;34m\u001b[0m\u001b[0m\n",
      "\u001b[0;32m/opt/local/Library/Frameworks/Python.framework/Versions/3.5/lib/python3.5/copy.py\u001b[0m in \u001b[0;36m_reconstruct\u001b[0;34m(x, info, deep, memo)\u001b[0m\n\u001b[1;32m    295\u001b[0m     \u001b[0;32mif\u001b[0m \u001b[0mstate\u001b[0m \u001b[0;32mis\u001b[0m \u001b[0;32mnot\u001b[0m \u001b[0;32mNone\u001b[0m\u001b[0;34m:\u001b[0m\u001b[0;34m\u001b[0m\u001b[0m\n\u001b[1;32m    296\u001b[0m         \u001b[0;32mif\u001b[0m \u001b[0mdeep\u001b[0m\u001b[0;34m:\u001b[0m\u001b[0;34m\u001b[0m\u001b[0m\n\u001b[0;32m--> 297\u001b[0;31m             \u001b[0mstate\u001b[0m \u001b[0;34m=\u001b[0m \u001b[0mdeepcopy\u001b[0m\u001b[0;34m(\u001b[0m\u001b[0mstate\u001b[0m\u001b[0;34m,\u001b[0m \u001b[0mmemo\u001b[0m\u001b[0;34m)\u001b[0m\u001b[0;34m\u001b[0m\u001b[0m\n\u001b[0m\u001b[1;32m    298\u001b[0m         \u001b[0;32mif\u001b[0m \u001b[0mhasattr\u001b[0m\u001b[0;34m(\u001b[0m\u001b[0my\u001b[0m\u001b[0;34m,\u001b[0m \u001b[0;34m'__setstate__'\u001b[0m\u001b[0;34m)\u001b[0m\u001b[0;34m:\u001b[0m\u001b[0;34m\u001b[0m\u001b[0m\n\u001b[1;32m    299\u001b[0m             \u001b[0my\u001b[0m\u001b[0;34m.\u001b[0m\u001b[0m__setstate__\u001b[0m\u001b[0;34m(\u001b[0m\u001b[0mstate\u001b[0m\u001b[0;34m)\u001b[0m\u001b[0;34m\u001b[0m\u001b[0m\n",
      "\u001b[0;32m/opt/local/Library/Frameworks/Python.framework/Versions/3.5/lib/python3.5/copy.py\u001b[0m in \u001b[0;36mdeepcopy\u001b[0;34m(x, memo, _nil)\u001b[0m\n\u001b[1;32m    153\u001b[0m     \u001b[0mcopier\u001b[0m \u001b[0;34m=\u001b[0m \u001b[0m_deepcopy_dispatch\u001b[0m\u001b[0;34m.\u001b[0m\u001b[0mget\u001b[0m\u001b[0;34m(\u001b[0m\u001b[0mcls\u001b[0m\u001b[0;34m)\u001b[0m\u001b[0;34m\u001b[0m\u001b[0m\n\u001b[1;32m    154\u001b[0m     \u001b[0;32mif\u001b[0m \u001b[0mcopier\u001b[0m\u001b[0;34m:\u001b[0m\u001b[0;34m\u001b[0m\u001b[0m\n\u001b[0;32m--> 155\u001b[0;31m         \u001b[0my\u001b[0m \u001b[0;34m=\u001b[0m \u001b[0mcopier\u001b[0m\u001b[0;34m(\u001b[0m\u001b[0mx\u001b[0m\u001b[0;34m,\u001b[0m \u001b[0mmemo\u001b[0m\u001b[0;34m)\u001b[0m\u001b[0;34m\u001b[0m\u001b[0m\n\u001b[0m\u001b[1;32m    156\u001b[0m     \u001b[0;32melse\u001b[0m\u001b[0;34m:\u001b[0m\u001b[0;34m\u001b[0m\u001b[0m\n\u001b[1;32m    157\u001b[0m         \u001b[0;32mtry\u001b[0m\u001b[0;34m:\u001b[0m\u001b[0;34m\u001b[0m\u001b[0m\n",
      "\u001b[0;32m/opt/local/Library/Frameworks/Python.framework/Versions/3.5/lib/python3.5/copy.py\u001b[0m in \u001b[0;36m_deepcopy_dict\u001b[0;34m(x, memo)\u001b[0m\n\u001b[1;32m    241\u001b[0m     \u001b[0mmemo\u001b[0m\u001b[0;34m[\u001b[0m\u001b[0mid\u001b[0m\u001b[0;34m(\u001b[0m\u001b[0mx\u001b[0m\u001b[0;34m)\u001b[0m\u001b[0;34m]\u001b[0m \u001b[0;34m=\u001b[0m \u001b[0my\u001b[0m\u001b[0;34m\u001b[0m\u001b[0m\n\u001b[1;32m    242\u001b[0m     \u001b[0;32mfor\u001b[0m \u001b[0mkey\u001b[0m\u001b[0;34m,\u001b[0m \u001b[0mvalue\u001b[0m \u001b[0;32min\u001b[0m \u001b[0mx\u001b[0m\u001b[0;34m.\u001b[0m\u001b[0mitems\u001b[0m\u001b[0;34m(\u001b[0m\u001b[0;34m)\u001b[0m\u001b[0;34m:\u001b[0m\u001b[0;34m\u001b[0m\u001b[0m\n\u001b[0;32m--> 243\u001b[0;31m         \u001b[0my\u001b[0m\u001b[0;34m[\u001b[0m\u001b[0mdeepcopy\u001b[0m\u001b[0;34m(\u001b[0m\u001b[0mkey\u001b[0m\u001b[0;34m,\u001b[0m \u001b[0mmemo\u001b[0m\u001b[0;34m)\u001b[0m\u001b[0;34m]\u001b[0m \u001b[0;34m=\u001b[0m \u001b[0mdeepcopy\u001b[0m\u001b[0;34m(\u001b[0m\u001b[0mvalue\u001b[0m\u001b[0;34m,\u001b[0m \u001b[0mmemo\u001b[0m\u001b[0;34m)\u001b[0m\u001b[0;34m\u001b[0m\u001b[0m\n\u001b[0m\u001b[1;32m    244\u001b[0m     \u001b[0;32mreturn\u001b[0m \u001b[0my\u001b[0m\u001b[0;34m\u001b[0m\u001b[0m\n\u001b[1;32m    245\u001b[0m \u001b[0md\u001b[0m\u001b[0;34m[\u001b[0m\u001b[0mdict\u001b[0m\u001b[0;34m]\u001b[0m \u001b[0;34m=\u001b[0m \u001b[0m_deepcopy_dict\u001b[0m\u001b[0;34m\u001b[0m\u001b[0m\n",
      "\u001b[0;32m/opt/local/Library/Frameworks/Python.framework/Versions/3.5/lib/python3.5/copy.py\u001b[0m in \u001b[0;36mdeepcopy\u001b[0;34m(x, memo, _nil)\u001b[0m\n\u001b[1;32m    180\u001b[0m                             raise Error(\n\u001b[1;32m    181\u001b[0m                                 \"un(deep)copyable object of type %s\" % cls)\n\u001b[0;32m--> 182\u001b[0;31m                 \u001b[0my\u001b[0m \u001b[0;34m=\u001b[0m \u001b[0m_reconstruct\u001b[0m\u001b[0;34m(\u001b[0m\u001b[0mx\u001b[0m\u001b[0;34m,\u001b[0m \u001b[0mrv\u001b[0m\u001b[0;34m,\u001b[0m \u001b[0;36m1\u001b[0m\u001b[0;34m,\u001b[0m \u001b[0mmemo\u001b[0m\u001b[0;34m)\u001b[0m\u001b[0;34m\u001b[0m\u001b[0m\n\u001b[0m\u001b[1;32m    183\u001b[0m \u001b[0;34m\u001b[0m\u001b[0m\n\u001b[1;32m    184\u001b[0m     \u001b[0;31m# If is its own copy, don't memoize.\u001b[0m\u001b[0;34m\u001b[0m\u001b[0;34m\u001b[0m\u001b[0m\n",
      "\u001b[0;32m/opt/local/Library/Frameworks/Python.framework/Versions/3.5/lib/python3.5/copy.py\u001b[0m in \u001b[0;36m_reconstruct\u001b[0;34m(x, info, deep, memo)\u001b[0m\n\u001b[1;32m    295\u001b[0m     \u001b[0;32mif\u001b[0m \u001b[0mstate\u001b[0m \u001b[0;32mis\u001b[0m \u001b[0;32mnot\u001b[0m \u001b[0;32mNone\u001b[0m\u001b[0;34m:\u001b[0m\u001b[0;34m\u001b[0m\u001b[0m\n\u001b[1;32m    296\u001b[0m         \u001b[0;32mif\u001b[0m \u001b[0mdeep\u001b[0m\u001b[0;34m:\u001b[0m\u001b[0;34m\u001b[0m\u001b[0m\n\u001b[0;32m--> 297\u001b[0;31m             \u001b[0mstate\u001b[0m \u001b[0;34m=\u001b[0m \u001b[0mdeepcopy\u001b[0m\u001b[0;34m(\u001b[0m\u001b[0mstate\u001b[0m\u001b[0;34m,\u001b[0m \u001b[0mmemo\u001b[0m\u001b[0;34m)\u001b[0m\u001b[0;34m\u001b[0m\u001b[0m\n\u001b[0m\u001b[1;32m    298\u001b[0m         \u001b[0;32mif\u001b[0m \u001b[0mhasattr\u001b[0m\u001b[0;34m(\u001b[0m\u001b[0my\u001b[0m\u001b[0;34m,\u001b[0m \u001b[0;34m'__setstate__'\u001b[0m\u001b[0;34m)\u001b[0m\u001b[0;34m:\u001b[0m\u001b[0;34m\u001b[0m\u001b[0m\n\u001b[1;32m    299\u001b[0m             \u001b[0my\u001b[0m\u001b[0;34m.\u001b[0m\u001b[0m__setstate__\u001b[0m\u001b[0;34m(\u001b[0m\u001b[0mstate\u001b[0m\u001b[0;34m)\u001b[0m\u001b[0;34m\u001b[0m\u001b[0m\n",
      "\u001b[0;32m/opt/local/Library/Frameworks/Python.framework/Versions/3.5/lib/python3.5/copy.py\u001b[0m in \u001b[0;36mdeepcopy\u001b[0;34m(x, memo, _nil)\u001b[0m\n\u001b[1;32m    153\u001b[0m     \u001b[0mcopier\u001b[0m \u001b[0;34m=\u001b[0m \u001b[0m_deepcopy_dispatch\u001b[0m\u001b[0;34m.\u001b[0m\u001b[0mget\u001b[0m\u001b[0;34m(\u001b[0m\u001b[0mcls\u001b[0m\u001b[0;34m)\u001b[0m\u001b[0;34m\u001b[0m\u001b[0m\n\u001b[1;32m    154\u001b[0m     \u001b[0;32mif\u001b[0m \u001b[0mcopier\u001b[0m\u001b[0;34m:\u001b[0m\u001b[0;34m\u001b[0m\u001b[0m\n\u001b[0;32m--> 155\u001b[0;31m         \u001b[0my\u001b[0m \u001b[0;34m=\u001b[0m \u001b[0mcopier\u001b[0m\u001b[0;34m(\u001b[0m\u001b[0mx\u001b[0m\u001b[0;34m,\u001b[0m \u001b[0mmemo\u001b[0m\u001b[0;34m)\u001b[0m\u001b[0;34m\u001b[0m\u001b[0m\n\u001b[0m\u001b[1;32m    156\u001b[0m     \u001b[0;32melse\u001b[0m\u001b[0;34m:\u001b[0m\u001b[0;34m\u001b[0m\u001b[0m\n\u001b[1;32m    157\u001b[0m         \u001b[0;32mtry\u001b[0m\u001b[0;34m:\u001b[0m\u001b[0;34m\u001b[0m\u001b[0m\n",
      "\u001b[0;32m/opt/local/Library/Frameworks/Python.framework/Versions/3.5/lib/python3.5/copy.py\u001b[0m in \u001b[0;36m_deepcopy_dict\u001b[0;34m(x, memo)\u001b[0m\n\u001b[1;32m    241\u001b[0m     \u001b[0mmemo\u001b[0m\u001b[0;34m[\u001b[0m\u001b[0mid\u001b[0m\u001b[0;34m(\u001b[0m\u001b[0mx\u001b[0m\u001b[0;34m)\u001b[0m\u001b[0;34m]\u001b[0m \u001b[0;34m=\u001b[0m \u001b[0my\u001b[0m\u001b[0;34m\u001b[0m\u001b[0m\n\u001b[1;32m    242\u001b[0m     \u001b[0;32mfor\u001b[0m \u001b[0mkey\u001b[0m\u001b[0;34m,\u001b[0m \u001b[0mvalue\u001b[0m \u001b[0;32min\u001b[0m \u001b[0mx\u001b[0m\u001b[0;34m.\u001b[0m\u001b[0mitems\u001b[0m\u001b[0;34m(\u001b[0m\u001b[0;34m)\u001b[0m\u001b[0;34m:\u001b[0m\u001b[0;34m\u001b[0m\u001b[0m\n\u001b[0;32m--> 243\u001b[0;31m         \u001b[0my\u001b[0m\u001b[0;34m[\u001b[0m\u001b[0mdeepcopy\u001b[0m\u001b[0;34m(\u001b[0m\u001b[0mkey\u001b[0m\u001b[0;34m,\u001b[0m \u001b[0mmemo\u001b[0m\u001b[0;34m)\u001b[0m\u001b[0;34m]\u001b[0m \u001b[0;34m=\u001b[0m \u001b[0mdeepcopy\u001b[0m\u001b[0;34m(\u001b[0m\u001b[0mvalue\u001b[0m\u001b[0;34m,\u001b[0m \u001b[0mmemo\u001b[0m\u001b[0;34m)\u001b[0m\u001b[0;34m\u001b[0m\u001b[0m\n\u001b[0m\u001b[1;32m    244\u001b[0m     \u001b[0;32mreturn\u001b[0m \u001b[0my\u001b[0m\u001b[0;34m\u001b[0m\u001b[0m\n\u001b[1;32m    245\u001b[0m \u001b[0md\u001b[0m\u001b[0;34m[\u001b[0m\u001b[0mdict\u001b[0m\u001b[0;34m]\u001b[0m \u001b[0;34m=\u001b[0m \u001b[0m_deepcopy_dict\u001b[0m\u001b[0;34m\u001b[0m\u001b[0m\n",
      "\u001b[0;32m/opt/local/Library/Frameworks/Python.framework/Versions/3.5/lib/python3.5/copy.py\u001b[0m in \u001b[0;36mdeepcopy\u001b[0;34m(x, memo, _nil)\u001b[0m\n\u001b[1;32m    180\u001b[0m                             raise Error(\n\u001b[1;32m    181\u001b[0m                                 \"un(deep)copyable object of type %s\" % cls)\n\u001b[0;32m--> 182\u001b[0;31m                 \u001b[0my\u001b[0m \u001b[0;34m=\u001b[0m \u001b[0m_reconstruct\u001b[0m\u001b[0;34m(\u001b[0m\u001b[0mx\u001b[0m\u001b[0;34m,\u001b[0m \u001b[0mrv\u001b[0m\u001b[0;34m,\u001b[0m \u001b[0;36m1\u001b[0m\u001b[0;34m,\u001b[0m \u001b[0mmemo\u001b[0m\u001b[0;34m)\u001b[0m\u001b[0;34m\u001b[0m\u001b[0m\n\u001b[0m\u001b[1;32m    183\u001b[0m \u001b[0;34m\u001b[0m\u001b[0m\n\u001b[1;32m    184\u001b[0m     \u001b[0;31m# If is its own copy, don't memoize.\u001b[0m\u001b[0;34m\u001b[0m\u001b[0;34m\u001b[0m\u001b[0m\n",
      "\u001b[0;32m/opt/local/Library/Frameworks/Python.framework/Versions/3.5/lib/python3.5/copy.py\u001b[0m in \u001b[0;36m_reconstruct\u001b[0;34m(x, info, deep, memo)\u001b[0m\n\u001b[1;32m    295\u001b[0m     \u001b[0;32mif\u001b[0m \u001b[0mstate\u001b[0m \u001b[0;32mis\u001b[0m \u001b[0;32mnot\u001b[0m \u001b[0;32mNone\u001b[0m\u001b[0;34m:\u001b[0m\u001b[0;34m\u001b[0m\u001b[0m\n\u001b[1;32m    296\u001b[0m         \u001b[0;32mif\u001b[0m \u001b[0mdeep\u001b[0m\u001b[0;34m:\u001b[0m\u001b[0;34m\u001b[0m\u001b[0m\n\u001b[0;32m--> 297\u001b[0;31m             \u001b[0mstate\u001b[0m \u001b[0;34m=\u001b[0m \u001b[0mdeepcopy\u001b[0m\u001b[0;34m(\u001b[0m\u001b[0mstate\u001b[0m\u001b[0;34m,\u001b[0m \u001b[0mmemo\u001b[0m\u001b[0;34m)\u001b[0m\u001b[0;34m\u001b[0m\u001b[0m\n\u001b[0m\u001b[1;32m    298\u001b[0m         \u001b[0;32mif\u001b[0m \u001b[0mhasattr\u001b[0m\u001b[0;34m(\u001b[0m\u001b[0my\u001b[0m\u001b[0;34m,\u001b[0m \u001b[0;34m'__setstate__'\u001b[0m\u001b[0;34m)\u001b[0m\u001b[0;34m:\u001b[0m\u001b[0;34m\u001b[0m\u001b[0m\n\u001b[1;32m    299\u001b[0m             \u001b[0my\u001b[0m\u001b[0;34m.\u001b[0m\u001b[0m__setstate__\u001b[0m\u001b[0;34m(\u001b[0m\u001b[0mstate\u001b[0m\u001b[0;34m)\u001b[0m\u001b[0;34m\u001b[0m\u001b[0m\n",
      "\u001b[0;32m/opt/local/Library/Frameworks/Python.framework/Versions/3.5/lib/python3.5/copy.py\u001b[0m in \u001b[0;36mdeepcopy\u001b[0;34m(x, memo, _nil)\u001b[0m\n\u001b[1;32m    153\u001b[0m     \u001b[0mcopier\u001b[0m \u001b[0;34m=\u001b[0m \u001b[0m_deepcopy_dispatch\u001b[0m\u001b[0;34m.\u001b[0m\u001b[0mget\u001b[0m\u001b[0;34m(\u001b[0m\u001b[0mcls\u001b[0m\u001b[0;34m)\u001b[0m\u001b[0;34m\u001b[0m\u001b[0m\n\u001b[1;32m    154\u001b[0m     \u001b[0;32mif\u001b[0m \u001b[0mcopier\u001b[0m\u001b[0;34m:\u001b[0m\u001b[0;34m\u001b[0m\u001b[0m\n\u001b[0;32m--> 155\u001b[0;31m         \u001b[0my\u001b[0m \u001b[0;34m=\u001b[0m \u001b[0mcopier\u001b[0m\u001b[0;34m(\u001b[0m\u001b[0mx\u001b[0m\u001b[0;34m,\u001b[0m \u001b[0mmemo\u001b[0m\u001b[0;34m)\u001b[0m\u001b[0;34m\u001b[0m\u001b[0m\n\u001b[0m\u001b[1;32m    156\u001b[0m     \u001b[0;32melse\u001b[0m\u001b[0;34m:\u001b[0m\u001b[0;34m\u001b[0m\u001b[0m\n\u001b[1;32m    157\u001b[0m         \u001b[0;32mtry\u001b[0m\u001b[0;34m:\u001b[0m\u001b[0;34m\u001b[0m\u001b[0m\n",
      "\u001b[0;32m/opt/local/Library/Frameworks/Python.framework/Versions/3.5/lib/python3.5/copy.py\u001b[0m in \u001b[0;36m_deepcopy_dict\u001b[0;34m(x, memo)\u001b[0m\n\u001b[1;32m    241\u001b[0m     \u001b[0mmemo\u001b[0m\u001b[0;34m[\u001b[0m\u001b[0mid\u001b[0m\u001b[0;34m(\u001b[0m\u001b[0mx\u001b[0m\u001b[0;34m)\u001b[0m\u001b[0;34m]\u001b[0m \u001b[0;34m=\u001b[0m \u001b[0my\u001b[0m\u001b[0;34m\u001b[0m\u001b[0m\n\u001b[1;32m    242\u001b[0m     \u001b[0;32mfor\u001b[0m \u001b[0mkey\u001b[0m\u001b[0;34m,\u001b[0m \u001b[0mvalue\u001b[0m \u001b[0;32min\u001b[0m \u001b[0mx\u001b[0m\u001b[0;34m.\u001b[0m\u001b[0mitems\u001b[0m\u001b[0;34m(\u001b[0m\u001b[0;34m)\u001b[0m\u001b[0;34m:\u001b[0m\u001b[0;34m\u001b[0m\u001b[0m\n\u001b[0;32m--> 243\u001b[0;31m         \u001b[0my\u001b[0m\u001b[0;34m[\u001b[0m\u001b[0mdeepcopy\u001b[0m\u001b[0;34m(\u001b[0m\u001b[0mkey\u001b[0m\u001b[0;34m,\u001b[0m \u001b[0mmemo\u001b[0m\u001b[0;34m)\u001b[0m\u001b[0;34m]\u001b[0m \u001b[0;34m=\u001b[0m \u001b[0mdeepcopy\u001b[0m\u001b[0;34m(\u001b[0m\u001b[0mvalue\u001b[0m\u001b[0;34m,\u001b[0m \u001b[0mmemo\u001b[0m\u001b[0;34m)\u001b[0m\u001b[0;34m\u001b[0m\u001b[0m\n\u001b[0m\u001b[1;32m    244\u001b[0m     \u001b[0;32mreturn\u001b[0m \u001b[0my\u001b[0m\u001b[0;34m\u001b[0m\u001b[0m\n\u001b[1;32m    245\u001b[0m \u001b[0md\u001b[0m\u001b[0;34m[\u001b[0m\u001b[0mdict\u001b[0m\u001b[0;34m]\u001b[0m \u001b[0;34m=\u001b[0m \u001b[0m_deepcopy_dict\u001b[0m\u001b[0;34m\u001b[0m\u001b[0m\n",
      "\u001b[0;32m/opt/local/Library/Frameworks/Python.framework/Versions/3.5/lib/python3.5/copy.py\u001b[0m in \u001b[0;36mdeepcopy\u001b[0;34m(x, memo, _nil)\u001b[0m\n\u001b[1;32m    172\u001b[0m                     \u001b[0mreductor\u001b[0m \u001b[0;34m=\u001b[0m \u001b[0mgetattr\u001b[0m\u001b[0;34m(\u001b[0m\u001b[0mx\u001b[0m\u001b[0;34m,\u001b[0m \u001b[0;34m\"__reduce_ex__\"\u001b[0m\u001b[0;34m,\u001b[0m \u001b[0;32mNone\u001b[0m\u001b[0;34m)\u001b[0m\u001b[0;34m\u001b[0m\u001b[0m\n\u001b[1;32m    173\u001b[0m                     \u001b[0;32mif\u001b[0m \u001b[0mreductor\u001b[0m\u001b[0;34m:\u001b[0m\u001b[0;34m\u001b[0m\u001b[0m\n\u001b[0;32m--> 174\u001b[0;31m                         \u001b[0mrv\u001b[0m \u001b[0;34m=\u001b[0m \u001b[0mreductor\u001b[0m\u001b[0;34m(\u001b[0m\u001b[0;36m4\u001b[0m\u001b[0;34m)\u001b[0m\u001b[0;34m\u001b[0m\u001b[0m\n\u001b[0m\u001b[1;32m    175\u001b[0m                     \u001b[0;32melse\u001b[0m\u001b[0;34m:\u001b[0m\u001b[0;34m\u001b[0m\u001b[0m\n\u001b[1;32m    176\u001b[0m                         \u001b[0mreductor\u001b[0m \u001b[0;34m=\u001b[0m \u001b[0mgetattr\u001b[0m\u001b[0;34m(\u001b[0m\u001b[0mx\u001b[0m\u001b[0;34m,\u001b[0m \u001b[0;34m\"__reduce__\"\u001b[0m\u001b[0;34m,\u001b[0m \u001b[0;32mNone\u001b[0m\u001b[0;34m)\u001b[0m\u001b[0;34m\u001b[0m\u001b[0m\n",
      "\u001b[0;32mnetCDF4/_netCDF4.pyx\u001b[0m in \u001b[0;36mnetCDF4._netCDF4.Dataset.__reduce__\u001b[0;34m()\u001b[0m\n",
      "\u001b[0;31mNotImplementedError\u001b[0m: Dataset is not picklable"
     ]
    }
   ],
   "source": [
    "out.relative_humidity.copy()"
   ]
  },
  {
   "cell_type": "code",
   "execution_count": 73,
   "metadata": {
    "ExecuteTime": {
     "end_time": "2016-05-20T11:10:24.081412",
     "start_time": "2016-05-20T11:10:24.073840"
    }
   },
   "outputs": [
    {
     "data": {
      "text/plain": [
       "<module 'nose_tests' from '/Users/htelg/prog/atm-py/unit_testing/nose_tests.py'>"
      ]
     },
     "execution_count": 73,
     "metadata": {},
     "output_type": "execute_result"
    }
   ],
   "source": [
    "reload(nose_tests)"
   ]
  },
  {
   "cell_type": "code",
   "execution_count": 63,
   "metadata": {
    "ExecuteTime": {
     "end_time": "2016-12-20T19:34:16.662455",
     "start_time": "2016-12-20T19:34:16.647938"
    }
   },
   "outputs": [
    {
     "ename": "AttributeError",
     "evalue": "module 'atmPy.unit_testing.nose_tests' has no attribute 'test_1twr10xC1'",
     "output_type": "error",
     "traceback": [
      "\u001b[0;31m---------------------------------------------------------------------------\u001b[0m",
      "\u001b[0;31mAttributeError\u001b[0m                            Traceback (most recent call last)",
      "\u001b[0;32m<ipython-input-63-3884ff5b1795>\u001b[0m in \u001b[0;36m<module>\u001b[0;34m()\u001b[0m\n\u001b[0;32m----> 1\u001b[0;31m \u001b[0mnose_tests\u001b[0m\u001b[0;34m.\u001b[0m\u001b[0mtest_1twr10xC1\u001b[0m\u001b[0;34m(\u001b[0m\u001b[0;34m)\u001b[0m\u001b[0;34m\u001b[0m\u001b[0m\n\u001b[0m",
      "\u001b[0;31mAttributeError\u001b[0m: module 'atmPy.unit_testing.nose_tests' has no attribute 'test_1twr10xC1'"
     ]
    }
   ],
   "source": [
    "nose_tests.test_1twr10xC1()"
   ]
  },
  {
   "cell_type": "code",
   "execution_count": 9,
   "metadata": {
    "ExecuteTime": {
     "end_time": "2016-12-20T19:51:26.890982",
     "start_time": "2016-12-20T19:51:26.887227"
    },
    "collapsed": true
   },
   "outputs": [],
   "source": [
    "test_data_folder = './test_data/'"
   ]
  },
  {
   "cell_type": "code",
   "execution_count": 10,
   "metadata": {
    "ExecuteTime": {
     "end_time": "2016-12-20T19:51:27.096885",
     "start_time": "2016-12-20T19:51:27.092458"
    },
    "collapsed": true
   },
   "outputs": [],
   "source": [
    "from atmPy.data_archives import arm"
   ]
  },
  {
   "cell_type": "code",
   "execution_count": 11,
   "metadata": {
    "ExecuteTime": {
     "end_time": "2016-12-20T19:51:27.660622",
     "start_time": "2016-12-20T19:51:27.280419"
    }
   },
   "outputs": [],
   "source": [
    "out = arm.read_netCDF(test_data_folder, data_product='1twr10xC1')\n",
    "out = out['1twr10xC1']"
   ]
  },
  {
   "cell_type": "code",
   "execution_count": 13,
   "metadata": {
    "ExecuteTime": {
     "end_time": "2016-12-20T19:51:37.725806",
     "start_time": "2016-12-20T19:51:37.713631"
    }
   },
   "outputs": [],
   "source": [
    "# rh\n",
    "soll = pd.read_csv(test_data_folder + '1twr10xC1_rh.csv', index_col=0,\n",
    "                   dtype={'rh_25m': np.float32, 'rh_60m': np.float32}\n",
    "                   )\n",
    "# self.assertTrue(np.all(out.relative_humidity.data == soll))\n",
    "# np.all(out.relative_humidity.data.index == soll.index)"
   ]
  },
  {
   "cell_type": "code",
   "execution_count": 19,
   "metadata": {
    "ExecuteTime": {
     "end_time": "2016-12-20T19:53:07.223011",
     "start_time": "2016-12-20T19:53:07.211927"
    }
   },
   "outputs": [
    {
     "data": {
      "text/plain": [
       "array([ True,  True,  True, ...,  True,  True,  True], dtype=bool)"
      ]
     },
     "execution_count": 19,
     "metadata": {},
     "output_type": "execute_result"
    }
   ],
   "source": [
    "out.relative_humidity.data.index == pd.to_datetime(soll.index)"
   ]
  },
  {
   "cell_type": "code",
   "execution_count": 16,
   "metadata": {
    "ExecuteTime": {
     "end_time": "2016-12-20T19:52:11.100754",
     "start_time": "2016-12-20T19:52:11.093937"
    }
   },
   "outputs": [
    {
     "data": {
      "text/plain": [
       "DatetimeIndex(['2012-01-31 23:59:00', '2012-02-01 00:00:00',\n",
       "               '2012-02-01 00:01:00', '2012-02-01 00:02:00',\n",
       "               '2012-02-01 00:03:00', '2012-02-01 00:04:00',\n",
       "               '2012-02-01 00:05:00', '2012-02-01 00:06:00',\n",
       "               '2012-02-01 00:07:00', '2012-02-01 00:08:00',\n",
       "               ...\n",
       "               '2012-02-03 23:49:00', '2012-02-03 23:50:00',\n",
       "               '2012-02-03 23:51:00', '2012-02-03 23:52:00',\n",
       "               '2012-02-03 23:53:00', '2012-02-03 23:54:00',\n",
       "               '2012-02-03 23:55:00', '2012-02-03 23:56:00',\n",
       "               '2012-02-03 23:57:00', '2012-02-03 23:58:00'],\n",
       "              dtype='datetime64[ns]', name='Time', length=4320, freq=None)"
      ]
     },
     "execution_count": 16,
     "metadata": {},
     "output_type": "execute_result"
    }
   ],
   "source": [
    "out.relative_humidity.data.index"
   ]
  },
  {
   "cell_type": "code",
   "execution_count": 72,
   "metadata": {
    "ExecuteTime": {
     "end_time": "2016-12-20T19:38:16.092049",
     "start_time": "2016-12-20T19:38:16.088287"
    }
   },
   "outputs": [],
   "source": [
    "soll.columns.name = out.relative_humidity.data.columns.name"
   ]
  },
  {
   "cell_type": "code",
   "execution_count": null,
   "metadata": {
    "collapsed": true
   },
   "outputs": [],
   "source": [
    "# temp\n",
    "soll = pd.read_csv(test_data_folder + '1twr10xC1_temp.csv', index_col=0,\n",
    "                   dtype={'temp_25m': np.float32, 'temp_60m': np.float32}\n",
    "                   )\n",
    "self.assertTrue(np.all(out.temperature.data == soll))\n",
    "\n",
    "# vapor pressure\n",
    "soll = pd.read_csv(test_data_folder + '1twr10xC1_p_vapor.csv', index_col=0,\n",
    "                   dtype={'vap_pres_25m': np.float32, 'vap_pres_60m': np.float32}\n",
    "                   )\n",
    "\n",
    "self.assertTrue(np.all(out.vapor_pressure.data == soll))"
   ]
  },
  {
   "cell_type": "markdown",
   "metadata": {
    "ExecuteTime": {
     "end_time": "2016-05-20T11:09:43.863352",
     "start_time": "2016-05-20T11:09:43.858524"
    }
   },
   "source": [
    "# Aerosols"
   ]
  },
  {
   "cell_type": "markdown",
   "metadata": {
    "collapsed": true
   },
   "source": [
    "## sizedistribution"
   ]
  },
  {
   "cell_type": "markdown",
   "metadata": {},
   "source": [
    "### concentrations"
   ]
  },
  {
   "cell_type": "code",
   "execution_count": 28,
   "metadata": {
    "ExecuteTime": {
     "end_time": "2016-12-21T07:19:42.312001",
     "start_time": "2016-12-21T07:19:42.303974"
    },
    "collapsed": true
   },
   "outputs": [],
   "source": [
    "from atmPy.aerosols import size_distribution\n",
    "%matplotlib inline"
   ]
  },
  {
   "cell_type": "code",
   "execution_count": 87,
   "metadata": {
    "ExecuteTime": {
     "end_time": "2016-12-21T08:37:47.500045",
     "start_time": "2016-12-21T08:37:47.494457"
    },
    "collapsed": true
   },
   "outputs": [],
   "source": [
    "sd = size_distribution.sizedistribution.simulate_sizedistribution(diameter=[15, 3000], \n",
    "                                                             numberOfDiameters=50, \n",
    "                                                             centerOfAerosolMode=222, \n",
    "                                                             widthOfAerosolMode=0.18, \n",
    "                                                             numberOfParticsInMode=888)\n",
    "\n",
    "sd.particle_number_concentration == 888.0\n",
    "\n",
    "float(sd.particle_surface_concentration.values) == 194.42186363605904\n",
    "\n",
    "float(sd.particle_volume_concentration.values) == 11.068545094055812\n",
    "\n",
    "sd.properties.particle_density =2.2\n",
    "\n",
    "float(sd.particle_mass_concentration) == 24.350799206922783"
   ]
  },
  {
   "cell_type": "markdown",
   "metadata": {},
   "source": [
    "#### including mixing rations"
   ]
  },
  {
   "cell_type": "code",
   "execution_count": 1,
   "metadata": {
    "ExecuteTime": {
     "end_time": "2017-02-01T10:21:27.231445",
     "start_time": "2017-02-01T10:21:26.172116"
    },
    "collapsed": true
   },
   "outputs": [],
   "source": [
    "from atmPy.aerosols import size_distribution\n",
    "%matplotlib inline"
   ]
  },
  {
   "cell_type": "code",
   "execution_count": 5,
   "metadata": {
    "ExecuteTime": {
     "end_time": "2017-01-31T18:21:10.883664",
     "start_time": "2017-01-31T18:21:09.745497"
    }
   },
   "outputs": [
    {
     "name": "stdout",
     "output_type": "stream",
     "text": [
      "> /Users/htelg/prog/atm-py/atmPy/aerosols/size_distribution/sizedistribution.py(2751)simulate_sizedistribution_timeseries()\n",
      "-> sdArray = _np.zeros((periods, numberOfDiameters - 1))\n",
      "(Pdb) c\n"
     ]
    },
    {
     "data": {
      "text/plain": [
       "True"
      ]
     },
     "execution_count": 5,
     "metadata": {},
     "output_type": "execute_result"
    }
   ],
   "source": [
    "sd = size_distribution.sizedistribution.simulate_sizedistribution_timeseries(diameter=[15, 3000], \n",
    "                                                                             numberOfDiameters=50, \n",
    "                                                                             centerOfAerosolMode=222, \n",
    "                                                                             widthOfAerosolMode=0.18, \n",
    "                                                                             numberOfParticsInMode=888, \n",
    "                                                                             startDate='2015-10-23 16:00:00', \n",
    "                                                                             endDate='2015-10-23 17:00:00', \n",
    "                                                                             frequency=60)\n",
    "\n",
    "sd.data = sd.data.iloc[[0],:]\n",
    "sd.housekeeping = atmPy.general.timeseries.TimeSeries(pd.DataFrame(np.array([[250.], [750.]]).transpose(), index = sd.data.index, columns=['temperature_K', 'pressure_Pa']))\n",
    "sd.parameters4reductions.particle_density =2.8\n",
    "float(sd.particle_mass_mixing_ratio.data.values) * 1e6 == 2.96533739732464"
   ]
  },
  {
   "cell_type": "markdown",
   "metadata": {},
   "source": [
    "#### muell"
   ]
  },
  {
   "cell_type": "code",
   "execution_count": 1,
   "metadata": {
    "ExecuteTime": {
     "end_time": "2017-02-01T11:00:30.148500",
     "start_time": "2017-02-01T11:00:29.120584"
    },
    "collapsed": true
   },
   "outputs": [],
   "source": [
    "from atmPy.aerosols import size_distribution\n",
    "%matplotlib inline"
   ]
  },
  {
   "cell_type": "code",
   "execution_count": 2,
   "metadata": {
    "ExecuteTime": {
     "end_time": "2017-02-01T11:00:30.239936",
     "start_time": "2017-02-01T11:00:30.150571"
    }
   },
   "outputs": [],
   "source": [
    "sd = size_distribution.sizedistribution.simulate_sizedistribution_timeseries(diameter=[15, 3000], \n",
    "                                                                             numberOfDiameters=50, \n",
    "                                                                             centerOfAerosolMode=222, \n",
    "                                                                             widthOfAerosolMode=0.18, \n",
    "                                                                             numberOfParticsInMode=888, \n",
    "                                                                             startDate='2015-10-23 16:00:00', \n",
    "                                                                             endDate='2015-10-23 17:00:00', \n",
    "                                                                             frequency=60)"
   ]
  },
  {
   "cell_type": "code",
   "execution_count": 3,
   "metadata": {
    "ExecuteTime": {
     "end_time": "2017-02-01T11:00:31.105138",
     "start_time": "2017-02-01T11:00:30.925928"
    }
   },
   "outputs": [
    {
     "ename": "ValueError",
     "evalue": "One of the Parameters kappa or growth_distribution needs to be set ... do so!",
     "output_type": "error",
     "traceback": [
      "\u001b[0;31m---------------------------------------------------------------------------\u001b[0m",
      "\u001b[0;31mValueError\u001b[0m                                Traceback (most recent call last)",
      "\u001b[0;32m<ipython-input-3-dfa498556169>\u001b[0m in \u001b[0;36m<module>\u001b[0;34m()\u001b[0m\n\u001b[0;32m----> 1\u001b[0;31m \u001b[0msd\u001b[0m\u001b[0;34m.\u001b[0m\u001b[0mhygroscopicity\u001b[0m\u001b[0;34m.\u001b[0m\u001b[0mparameters\u001b[0m\u001b[0;34m.\u001b[0m\u001b[0m_check_growth_parameters_exist\u001b[0m\u001b[0;34m(\u001b[0m\u001b[0;34m)\u001b[0m\u001b[0;34m\u001b[0m\u001b[0m\n\u001b[0m",
      "\u001b[0;32m/Users/htelg/prog/atm-py/atmPy/aerosols/size_distribution/sizedistribution.py\u001b[0m in \u001b[0;36m_check_growth_parameters_exist\u001b[0;34m(self, raise_error)\u001b[0m\n\u001b[1;32m    421\u001b[0m \u001b[0;34m\u001b[0m\u001b[0m\n\u001b[1;32m    422\u001b[0m     \u001b[0;32mdef\u001b[0m \u001b[0m_check_growth_parameters_exist\u001b[0m\u001b[0;34m(\u001b[0m\u001b[0mself\u001b[0m\u001b[0;34m,\u001b[0m \u001b[0mraise_error\u001b[0m \u001b[0;34m=\u001b[0m \u001b[0;32mTrue\u001b[0m\u001b[0;34m)\u001b[0m\u001b[0;34m:\u001b[0m\u001b[0;34m\u001b[0m\u001b[0m\n\u001b[0;32m--> 423\u001b[0;31m         \u001b[0;32mreturn\u001b[0m \u001b[0mself\u001b[0m\u001b[0;34m.\u001b[0m\u001b[0m_check_parameter_exists\u001b[0m\u001b[0;34m(\u001b[0m\u001b[0mparameters\u001b[0m\u001b[0;34m=\u001b[0m \u001b[0;34m[\u001b[0m\u001b[0;34m[\u001b[0m\u001b[0;34m'kappa'\u001b[0m\u001b[0;34m,\u001b[0m\u001b[0;34m'growth_distribution'\u001b[0m\u001b[0;34m]\u001b[0m\u001b[0;34m]\u001b[0m\u001b[0;34m,\u001b[0m \u001b[0mraise_error\u001b[0m \u001b[0;34m=\u001b[0m \u001b[0mraise_error\u001b[0m\u001b[0;34m)\u001b[0m\u001b[0;34m\u001b[0m\u001b[0m\n\u001b[0m\u001b[1;32m    424\u001b[0m \u001b[0;34m\u001b[0m\u001b[0m\n\u001b[1;32m    425\u001b[0m     \u001b[0;32mdef\u001b[0m \u001b[0m_check_mixing_ratio_param_exist\u001b[0m\u001b[0;34m(\u001b[0m\u001b[0mself\u001b[0m\u001b[0;34m,\u001b[0m \u001b[0mraise_error\u001b[0m \u001b[0;34m=\u001b[0m \u001b[0;32mTrue\u001b[0m\u001b[0;34m)\u001b[0m\u001b[0;34m:\u001b[0m\u001b[0;34m\u001b[0m\u001b[0m\n",
      "\u001b[0;32m/Users/htelg/prog/atm-py/atmPy/aerosols/size_distribution/sizedistribution.py\u001b[0m in \u001b[0;36m_check_parameter_exists\u001b[0;34m(self, parameters, raise_error)\u001b[0m\n\u001b[1;32m    394\u001b[0m                     \u001b[0;32melse\u001b[0m\u001b[0;34m:\u001b[0m\u001b[0;34m\u001b[0m\u001b[0m\n\u001b[1;32m    395\u001b[0m                         \u001b[0mtxt\u001b[0m \u001b[0;34m=\u001b[0m \u001b[0;34m'Parameter {} is not set ... do so!'\u001b[0m\u001b[0;34m.\u001b[0m\u001b[0mformat\u001b[0m\u001b[0;34m(\u001b[0m\u001b[0mparam\u001b[0m\u001b[0;34m[\u001b[0m\u001b[0;36m0\u001b[0m\u001b[0;34m]\u001b[0m\u001b[0;34m)\u001b[0m\u001b[0;34m\u001b[0m\u001b[0m\n\u001b[0;32m--> 396\u001b[0;31m                     \u001b[0;32mraise\u001b[0m \u001b[0mValueError\u001b[0m\u001b[0;34m(\u001b[0m\u001b[0mtxt\u001b[0m\u001b[0;34m)\u001b[0m\u001b[0;34m\u001b[0m\u001b[0m\n\u001b[0m\u001b[1;32m    397\u001b[0m                 \u001b[0;32melse\u001b[0m\u001b[0;34m:\u001b[0m\u001b[0;34m\u001b[0m\u001b[0m\n\u001b[1;32m    398\u001b[0m                     \u001b[0mpassed\u001b[0m \u001b[0;34m=\u001b[0m \u001b[0;32mFalse\u001b[0m\u001b[0;34m\u001b[0m\u001b[0m\n",
      "\u001b[0;31mValueError\u001b[0m: One of the Parameters kappa or growth_distribution needs to be set ... do so!"
     ]
    }
   ],
   "source": [
    "sd.hygroscopicity.parameters._check_growth_parameters_exist()"
   ]
  },
  {
   "cell_type": "code",
   "execution_count": 4,
   "metadata": {
    "ExecuteTime": {
     "end_time": "2017-02-01T11:00:41.506287",
     "start_time": "2017-02-01T11:00:41.499414"
    }
   },
   "outputs": [
    {
     "data": {
      "text/plain": [
       "True"
      ]
     },
     "execution_count": 4,
     "metadata": {},
     "output_type": "execute_result"
    }
   ],
   "source": [
    "sd.hygroscopicity.parameters.kappa = 1.5\n",
    "sd.hygroscopicity.parameters._check_growth_parameters_exist()"
   ]
  },
  {
   "cell_type": "code",
   "execution_count": 6,
   "metadata": {
    "ExecuteTime": {
     "end_time": "2017-02-01T11:01:19.735716",
     "start_time": "2017-02-01T11:01:19.729885"
    }
   },
   "outputs": [
    {
     "data": {
      "text/plain": [
       "RH                  :  None\n",
       "growth_distribution :  5\n",
       "kappa               :  None\n",
       "particle_density    :  1.8\n",
       "refractive_index    :  None"
      ]
     },
     "execution_count": 6,
     "metadata": {},
     "output_type": "execute_result"
    }
   ],
   "source": [
    "sd.hygroscopicity.parameters.growth_distribution = 5\n",
    "sd.hygroscopicity.parameters"
   ]
  },
  {
   "cell_type": "code",
   "execution_count": 4,
   "metadata": {
    "ExecuteTime": {
     "end_time": "2017-02-01T10:36:02.486820",
     "start_time": "2017-02-01T10:36:02.479204"
    }
   },
   "outputs": [
    {
     "data": {
      "text/plain": [
       "True"
      ]
     },
     "execution_count": 4,
     "metadata": {},
     "output_type": "execute_result"
    }
   ],
   "source": [
    "sd.optical_properties.parameters.wavelength = 550\n",
    "sd.optical_properties.parameters.refractive_index = 1.5\n",
    "sd.optical_properties.parameters._check_opt_prop_param_exist()"
   ]
  },
  {
   "cell_type": "code",
   "execution_count": 9,
   "metadata": {
    "ExecuteTime": {
     "end_time": "2017-02-01T10:27:53.309342",
     "start_time": "2017-02-01T10:27:53.303952"
    }
   },
   "outputs": [
    {
     "data": {
      "text/plain": [
       "False"
      ]
     },
     "execution_count": 9,
     "metadata": {},
     "output_type": "execute_result"
    }
   ],
   "source": [
    "np.any([False,False])"
   ]
  },
  {
   "cell_type": "code",
   "execution_count": null,
   "metadata": {
    "collapsed": true
   },
   "outputs": [],
   "source": []
  },
  {
   "cell_type": "code",
   "execution_count": null,
   "metadata": {
    "collapsed": true
   },
   "outputs": [],
   "source": []
  },
  {
   "cell_type": "markdown",
   "metadata": {},
   "source": [
    "### moment conversion"
   ]
  },
  {
   "cell_type": "code",
   "execution_count": 28,
   "metadata": {
    "ExecuteTime": {
     "end_time": "2016-12-21T07:19:42.312001",
     "start_time": "2016-12-21T07:19:42.303974"
    },
    "collapsed": true
   },
   "outputs": [],
   "source": [
    "from atmPy.aerosols import size_distribution\n",
    "%matplotlib inline"
   ]
  },
  {
   "cell_type": "code",
   "execution_count": 76,
   "metadata": {
    "ExecuteTime": {
     "end_time": "2016-12-21T08:20:39.174178",
     "start_time": "2016-12-21T08:20:39.104892"
    }
   },
   "outputs": [
    {
     "name": "stderr",
     "output_type": "stream",
     "text": [
      "/Users/htelg/prog/atm-py/atmPy/aerosols/size_distribution/sizedistribution.py:844: UserWarning: This function is deprecated use close_gaps instead ... unless you like thisone better\n",
      "  _warnings.warn('This function is deprecated use close_gaps instead ... unless you like thisone better')\n",
      "/opt/local/Library/Frameworks/Python.framework/Versions/3.5/lib/python3.5/site-packages/numpy/core/_methods.py:59: RuntimeWarning: Mean of empty slice.\n",
      "  warnings.warn(\"Mean of empty slice.\", RuntimeWarning)\n",
      "/opt/local/Library/Frameworks/Python.framework/Versions/3.5/lib/python3.5/site-packages/numpy/core/_methods.py:70: RuntimeWarning: invalid value encountered in double_scalars\n",
      "  ret = ret.dtype.type(ret / rcount)\n"
     ]
    }
   ],
   "source": [
    "sd = size_distribution.sizedistribution.simulate_sizedistribution(diameter=[15, 3000], \n",
    "                                                             numberOfDiameters=50, \n",
    "                                                             centerOfAerosolMode=222, \n",
    "                                                             widthOfAerosolMode=0.18, \n",
    "                                                             numberOfParticsInMode=888)\n",
    "\n",
    "sd_dNdDp = sd.convert2dNdDp()\n",
    "sd_dNdlogDp = sd.convert2dNdlogDp()\n",
    "sd_dSdDp = sd.convert2dSdDp()\n",
    "sd_dSdlogDp = sd.convert2dSdlogDp()\n",
    "sd_dVdDp = sd.convert2dVdDp()\n",
    "sd_dVdlogDp = sd.convert2dVdlogDp()\n",
    "\n",
    "folder = './test_data/'\n",
    "\n",
    "# sd.save_csv(folder + 'aerosols_size_dist_moments_sd.nc')\n",
    "# sd_dNdDp.save_csv(folder + 'aerosols_size_dist_moments_sd_dNdDp.nc')\n",
    "# sd_dNdlogDp.save_csv(folder + 'aerosols_size_dist_moments_sd_dNdlogDp.nc')\n",
    "# sd_dSdDp.save_csv(folder + 'aerosols_size_dist_moments_sd_dSdDp.nc')\n",
    "# sd_dSdlogDp.save_csv(folder + 'aerosols_size_dist_moments_sd_dSdlogDp.nc')\n",
    "# sd_dVdDp.save_csv(folder + 'aerosols_size_dist_moments_sd_dVdDp.nc')\n",
    "# sd_dVdlogDp.save_csv(folder + 'aerosols_size_dist_moments_sd_dVdlogDp.nc')\n",
    "\n",
    "sd_soll = size_distribution.sizedistribution.read_csv(folder + 'aerosols_size_dist_moments_sd.nc')\n",
    "sd_dNdDp_soll = size_distribution.sizedistribution.read_csv(folder + 'aerosols_size_dist_moments_sd_dNdDp.nc')\n",
    "sd_dNdlogDp_soll = size_distribution.sizedistribution.read_csv(folder + 'aerosols_size_dist_moments_sd_dNdlogDp.nc')\n",
    "sd_dSdDp_soll = size_distribution.sizedistribution.read_csv(folder + 'aerosols_size_dist_moments_sd_dSdDp.nc')\n",
    "sd_dSdlogDp_soll = size_distribution.sizedistribution.read_csv(folder + 'aerosols_size_dist_moments_sd_dSdlogDp.nc')\n",
    "sd_dVdDp_soll = size_distribution.sizedistribution.read_csv(folder + 'aerosols_size_dist_moments_sd_dVdDp.nc')\n",
    "sd_dVdlogDp_soll = size_distribution.sizedistribution.read_csv(folder + 'aerosols_size_dist_moments_sd_dVdlogDp.nc')\n",
    "\n",
    "threshold = 1e-10\n",
    "assert(abs((sd.data.values - sd_soll.data)).values.sum() < (sd.data.values.max() * threshold))\n",
    "assert((sd_dNdDp.data - sd_dNdDp_soll.data).values.sum() < (sd_dNdDp.data.values.max() * threshold))\n",
    "assert((sd_dSdDp.data - sd_dSdDp_soll.data).values.sum() < (sd_dSdDp.data.values.max() * threshold))\n",
    "assert((sd_dVdDp.data - sd_dVdDp_soll.data).values.sum() < (sd_dVdDp.data.values.max() * threshold))\n",
    "assert((sd_dNdlogDp.data - sd_dNdlogDp_soll.data).values.sum() < (sd_dNdlogDp.data.values.max() * threshold))\n",
    "assert((sd_dSdlogDp.data - sd_dSdlogDp_soll.data).values.sum() < (sd_dSdlogDp.data.values.max() * threshold))\n",
    "assert((sd_dVdlogDp.data - sd_dVdlogDp_soll.data).values.sum() < (sd_dVdlogDp.data.values.max() * threshold))"
   ]
  },
  {
   "cell_type": "code",
   "execution_count": 86,
   "metadata": {
    "ExecuteTime": {
     "end_time": "2016-12-21T08:26:05.615397",
     "start_time": "2016-12-21T08:26:05.609744"
    }
   },
   "outputs": [
    {
     "data": {
      "text/plain": [
       "-8.7785748722638802e-16"
      ]
     },
     "execution_count": 86,
     "metadata": {},
     "output_type": "execute_result"
    }
   ],
   "source": [
    "(sd.data.values - sd_soll.data.values).sum()"
   ]
  },
  {
   "cell_type": "code",
   "execution_count": 81,
   "metadata": {
    "ExecuteTime": {
     "end_time": "2016-12-21T08:24:27.198042",
     "start_time": "2016-12-21T08:24:27.190303"
    }
   },
   "outputs": [
    {
     "data": {
      "text/plain": [
       "True"
      ]
     },
     "execution_count": 81,
     "metadata": {},
     "output_type": "execute_result"
    }
   ],
   "source": [
    "(abs((sd.data - sd_soll.data).dropna()).values.sum() < (sd.data.values.max() * threshold))"
   ]
  },
  {
   "cell_type": "markdown",
   "metadata": {},
   "source": [
    "### optical properties"
   ]
  },
  {
   "cell_type": "code",
   "execution_count": 1,
   "metadata": {
    "ExecuteTime": {
     "end_time": "2016-12-27T17:23:54.104078",
     "start_time": "2016-12-27T17:23:53.674718"
    },
    "collapsed": true
   },
   "outputs": [],
   "source": [
    "from atmPy.aerosols import size_distribution\n",
    "import atmPy\n",
    "from atmPy.unit_testing import nose_tests\n",
    "%matplotlib inline"
   ]
  },
  {
   "cell_type": "code",
   "execution_count": 3,
   "metadata": {
    "ExecuteTime": {
     "end_time": "2016-12-27T17:24:39.969147",
     "start_time": "2016-12-27T17:24:39.258468"
    }
   },
   "outputs": [
    {
     "name": "stdout",
     "output_type": "stream",
     "text": [
      "calc opt_prop\n"
     ]
    }
   ],
   "source": [
    "test = nose_tests.SizeDistTest()\n",
    "test.test_opt_prop_LS()"
   ]
  },
  {
   "cell_type": "code",
   "execution_count": 6,
   "metadata": {
    "ExecuteTime": {
     "end_time": "2016-12-27T17:21:31.522089",
     "start_time": "2016-12-27T17:21:30.750262"
    }
   },
   "outputs": [
    {
     "name": "stdout",
     "output_type": "stream",
     "text": [
      "calc opt_prop\n"
     ]
    },
    {
     "data": {
      "text/plain": [
       "False"
      ]
     },
     "execution_count": 6,
     "metadata": {},
     "output_type": "execute_result"
    }
   ],
   "source": [
    "sd = size_distribution.sizedistribution.simulate_sizedistribution_layerseries(diameter=[10, 2500], \n",
    "                                                                              numberOfDiameters=100, \n",
    "                                                                              heightlimits=[0, 6000], \n",
    "                                                                              noOflayers=100, \n",
    "                                                                              layerHeight=[500.0, 4000.0], \n",
    "                                                                              layerThickness=[100.0, 300.0], \n",
    "                                                                              layerDensity=[1000.0, 50.0], \n",
    "                                                                              layerModecenter=[200.0, 800.0], \n",
    "                                                                              widthOfAerosolMode=0.2)\n",
    "\n",
    "sd.optical_properties.parameters.refractive_index = 1.56\n",
    "sd.optical_properties.parameters.wavelength = 515\n",
    "\n",
    "fname = './test_data/aerosols_size_dist_LS_optprop.nc'\n",
    "sdl = atmPy.read_file.netCDF(fname)\n",
    "\n",
    "np.all(sd.optical_properties.aod_cumulative.data['aod'] == sdl.data['AOD per Layer'])"
   ]
  },
  {
   "cell_type": "code",
   "execution_count": 8,
   "metadata": {
    "ExecuteTime": {
     "end_time": "2016-12-27T17:22:25.407980",
     "start_time": "2016-12-27T17:22:25.401590"
    }
   },
   "outputs": [
    {
     "data": {
      "text/plain": [
       "1.5445301543875677e-19"
      ]
     },
     "execution_count": 8,
     "metadata": {},
     "output_type": "execute_result"
    }
   ],
   "source": [
    "(sd.optical_properties.aod_cumulative.data['aod'] - sdl.data['AOD per Layer']).sum()"
   ]
  },
  {
   "cell_type": "code",
   "execution_count": null,
   "metadata": {
    "collapsed": true
   },
   "outputs": [],
   "source": []
  },
  {
   "cell_type": "code",
   "execution_count": null,
   "metadata": {
    "collapsed": true
   },
   "outputs": [],
   "source": []
  },
  {
   "cell_type": "code",
   "execution_count": null,
   "metadata": {
    "ExecuteTime": {
     "end_time": "2016-12-27T17:18:58.481351",
     "start_time": "2016-12-28T00:18:57.992Z"
    },
    "collapsed": true
   },
   "outputs": [],
   "source": [
    "        if aod:\n",
    "            layerThickness = sdls.layerbounderies[i][1] - sdls.layerbounderies[i][0]\n",
    "            AOD_perBin = extinction_coefficient * layerThickness\n",
    "            AOD_layer[i] = AOD_perBin.values.sum()"
   ]
  },
  {
   "cell_type": "code",
   "execution_count": null,
   "metadata": {
    "ExecuteTime": {
     "end_time": "2016-12-27T16:37:31.837585",
     "start_time": "2016-12-27T16:37:31.812819"
    },
    "collapsed": true
   },
   "outputs": [],
   "source": [
    "        out['AOD'] = AOD_layer[~ _np.isnan(AOD_layer)].sum()\n",
    "        out['AOD_layer'] = _pd.DataFrame(AOD_layer, index=sdls.layercenters, columns=['AOD per Layer'])\n",
    "        out['AOD_cum'] = out['AOD_layer'].iloc[::-1].cumsum().iloc[::-1]"
   ]
  },
  {
   "cell_type": "code",
   "execution_count": null,
   "metadata": {
    "collapsed": true
   },
   "outputs": [],
   "source": [
    "layerThickness = sd.layerbounderies[i][1] - sd.layerbounderies[i][0]\n",
    "AOD_perBin = extinction_coefficient * layerThickness\n",
    "AOD_layer[i] = AOD_perBin.values.sum()"
   ]
  },
  {
   "cell_type": "code",
   "execution_count": 49,
   "metadata": {
    "ExecuteTime": {
     "end_time": "2016-12-27T16:37:31.837585",
     "start_time": "2016-12-27T16:37:31.812819"
    }
   },
   "outputs": [
    {
     "data": {
      "text/html": [
       "<div>\n",
       "<table border=\"1\" class=\"dataframe\">\n",
       "  <thead>\n",
       "    <tr style=\"text-align: right;\">\n",
       "      <th></th>\n",
       "      <th>aod</th>\n",
       "    </tr>\n",
       "  </thead>\n",
       "  <tbody>\n",
       "    <tr>\n",
       "      <th>5970.0</th>\n",
       "      <td>2.552018e-12</td>\n",
       "    </tr>\n",
       "    <tr>\n",
       "      <th>5910.0</th>\n",
       "      <td>1.185391e-11</td>\n",
       "    </tr>\n",
       "    <tr>\n",
       "      <th>5850.0</th>\n",
       "      <td>4.442911e-11</td>\n",
       "    </tr>\n",
       "    <tr>\n",
       "      <th>5790.0</th>\n",
       "      <td>1.540343e-10</td>\n",
       "    </tr>\n",
       "    <tr>\n",
       "      <th>5730.0</th>\n",
       "      <td>5.083605e-10</td>\n",
       "    </tr>\n",
       "    <tr>\n",
       "      <th>5670.0</th>\n",
       "      <td>1.608895e-09</td>\n",
       "    </tr>\n",
       "    <tr>\n",
       "      <th>5610.0</th>\n",
       "      <td>4.893115e-09</td>\n",
       "    </tr>\n",
       "    <tr>\n",
       "      <th>5550.0</th>\n",
       "      <td>1.430961e-08</td>\n",
       "    </tr>\n",
       "    <tr>\n",
       "      <th>5490.0</th>\n",
       "      <td>4.024986e-08</td>\n",
       "    </tr>\n",
       "    <tr>\n",
       "      <th>5430.0</th>\n",
       "      <td>1.089073e-07</td>\n",
       "    </tr>\n",
       "    <tr>\n",
       "      <th>5370.0</th>\n",
       "      <td>2.835012e-07</td>\n",
       "    </tr>\n",
       "    <tr>\n",
       "      <th>5310.0</th>\n",
       "      <td>7.100795e-07</td>\n",
       "    </tr>\n",
       "    <tr>\n",
       "      <th>5250.0</th>\n",
       "      <td>1.711454e-06</td>\n",
       "    </tr>\n",
       "    <tr>\n",
       "      <th>5190.0</th>\n",
       "      <td>3.969969e-06</td>\n",
       "    </tr>\n",
       "    <tr>\n",
       "      <th>5130.0</th>\n",
       "      <td>8.864120e-06</td>\n",
       "    </tr>\n",
       "    <tr>\n",
       "      <th>5070.0</th>\n",
       "      <td>1.905379e-05</td>\n",
       "    </tr>\n",
       "    <tr>\n",
       "      <th>5010.0</th>\n",
       "      <td>3.943691e-05</td>\n",
       "    </tr>\n",
       "    <tr>\n",
       "      <th>4950.0</th>\n",
       "      <td>7.861199e-05</td>\n",
       "    </tr>\n",
       "    <tr>\n",
       "      <th>4890.0</th>\n",
       "      <td>1.509518e-04</td>\n",
       "    </tr>\n",
       "    <tr>\n",
       "      <th>4830.0</th>\n",
       "      <td>2.792949e-04</td>\n",
       "    </tr>\n",
       "    <tr>\n",
       "      <th>4770.0</th>\n",
       "      <td>4.980692e-04</td>\n",
       "    </tr>\n",
       "    <tr>\n",
       "      <th>4710.0</th>\n",
       "      <td>8.563704e-04</td>\n",
       "    </tr>\n",
       "    <tr>\n",
       "      <th>4650.0</th>\n",
       "      <td>1.420175e-03</td>\n",
       "    </tr>\n",
       "    <tr>\n",
       "      <th>4590.0</th>\n",
       "      <td>2.272562e-03</td>\n",
       "    </tr>\n",
       "    <tr>\n",
       "      <th>4530.0</th>\n",
       "      <td>3.510712e-03</td>\n",
       "    </tr>\n",
       "    <tr>\n",
       "      <th>4470.0</th>\n",
       "      <td>5.238691e-03</td>\n",
       "    </tr>\n",
       "    <tr>\n",
       "      <th>4410.0</th>\n",
       "      <td>7.555719e-03</td>\n",
       "    </tr>\n",
       "    <tr>\n",
       "      <th>4350.0</th>\n",
       "      <td>1.054078e-02</td>\n",
       "    </tr>\n",
       "    <tr>\n",
       "      <th>4290.0</th>\n",
       "      <td>1.423567e-02</td>\n",
       "    </tr>\n",
       "    <tr>\n",
       "      <th>4230.0</th>\n",
       "      <td>1.862987e-02</td>\n",
       "    </tr>\n",
       "    <tr>\n",
       "      <th>...</th>\n",
       "      <td>...</td>\n",
       "    </tr>\n",
       "    <tr>\n",
       "      <th>1770.0</th>\n",
       "      <td>7.388802e-02</td>\n",
       "    </tr>\n",
       "    <tr>\n",
       "      <th>1710.0</th>\n",
       "      <td>7.388802e-02</td>\n",
       "    </tr>\n",
       "    <tr>\n",
       "      <th>1650.0</th>\n",
       "      <td>7.388802e-02</td>\n",
       "    </tr>\n",
       "    <tr>\n",
       "      <th>1590.0</th>\n",
       "      <td>7.388802e-02</td>\n",
       "    </tr>\n",
       "    <tr>\n",
       "      <th>1530.0</th>\n",
       "      <td>7.388802e-02</td>\n",
       "    </tr>\n",
       "    <tr>\n",
       "      <th>1470.0</th>\n",
       "      <td>7.388802e-02</td>\n",
       "    </tr>\n",
       "    <tr>\n",
       "      <th>1410.0</th>\n",
       "      <td>7.388802e-02</td>\n",
       "    </tr>\n",
       "    <tr>\n",
       "      <th>1350.0</th>\n",
       "      <td>7.388802e-02</td>\n",
       "    </tr>\n",
       "    <tr>\n",
       "      <th>1290.0</th>\n",
       "      <td>7.388802e-02</td>\n",
       "    </tr>\n",
       "    <tr>\n",
       "      <th>1230.0</th>\n",
       "      <td>7.388802e-02</td>\n",
       "    </tr>\n",
       "    <tr>\n",
       "      <th>1170.0</th>\n",
       "      <td>7.388802e-02</td>\n",
       "    </tr>\n",
       "    <tr>\n",
       "      <th>1110.0</th>\n",
       "      <td>7.388802e-02</td>\n",
       "    </tr>\n",
       "    <tr>\n",
       "      <th>1050.0</th>\n",
       "      <td>7.388803e-02</td>\n",
       "    </tr>\n",
       "    <tr>\n",
       "      <th>990.0</th>\n",
       "      <td>7.388806e-02</td>\n",
       "    </tr>\n",
       "    <tr>\n",
       "      <th>930.0</th>\n",
       "      <td>7.388861e-02</td>\n",
       "    </tr>\n",
       "    <tr>\n",
       "      <th>870.0</th>\n",
       "      <td>7.389469e-02</td>\n",
       "    </tr>\n",
       "    <tr>\n",
       "      <th>810.0</th>\n",
       "      <td>7.394146e-02</td>\n",
       "    </tr>\n",
       "    <tr>\n",
       "      <th>750.0</th>\n",
       "      <td>7.419239e-02</td>\n",
       "    </tr>\n",
       "    <tr>\n",
       "      <th>690.0</th>\n",
       "      <td>7.513174e-02</td>\n",
       "    </tr>\n",
       "    <tr>\n",
       "      <th>630.0</th>\n",
       "      <td>7.758501e-02</td>\n",
       "    </tr>\n",
       "    <tr>\n",
       "      <th>570.0</th>\n",
       "      <td>8.205518e-02</td>\n",
       "    </tr>\n",
       "    <tr>\n",
       "      <th>510.0</th>\n",
       "      <td>8.773787e-02</td>\n",
       "    </tr>\n",
       "    <tr>\n",
       "      <th>450.0</th>\n",
       "      <td>9.277797e-02</td>\n",
       "    </tr>\n",
       "    <tr>\n",
       "      <th>390.0</th>\n",
       "      <td>9.589670e-02</td>\n",
       "    </tr>\n",
       "    <tr>\n",
       "      <th>330.0</th>\n",
       "      <td>9.724309e-02</td>\n",
       "    </tr>\n",
       "    <tr>\n",
       "      <th>270.0</th>\n",
       "      <td>9.764861e-02</td>\n",
       "    </tr>\n",
       "    <tr>\n",
       "      <th>210.0</th>\n",
       "      <td>9.773383e-02</td>\n",
       "    </tr>\n",
       "    <tr>\n",
       "      <th>150.0</th>\n",
       "      <td>9.774632e-02</td>\n",
       "    </tr>\n",
       "    <tr>\n",
       "      <th>90.0</th>\n",
       "      <td>9.774760e-02</td>\n",
       "    </tr>\n",
       "    <tr>\n",
       "      <th>30.0</th>\n",
       "      <td>9.774769e-02</td>\n",
       "    </tr>\n",
       "  </tbody>\n",
       "</table>\n",
       "<p>100 rows × 1 columns</p>\n",
       "</div>"
      ],
      "text/plain": [
       "                 aod\n",
       "5970.0  2.552018e-12\n",
       "5910.0  1.185391e-11\n",
       "5850.0  4.442911e-11\n",
       "5790.0  1.540343e-10\n",
       "5730.0  5.083605e-10\n",
       "5670.0  1.608895e-09\n",
       "5610.0  4.893115e-09\n",
       "5550.0  1.430961e-08\n",
       "5490.0  4.024986e-08\n",
       "5430.0  1.089073e-07\n",
       "5370.0  2.835012e-07\n",
       "5310.0  7.100795e-07\n",
       "5250.0  1.711454e-06\n",
       "5190.0  3.969969e-06\n",
       "5130.0  8.864120e-06\n",
       "5070.0  1.905379e-05\n",
       "5010.0  3.943691e-05\n",
       "4950.0  7.861199e-05\n",
       "4890.0  1.509518e-04\n",
       "4830.0  2.792949e-04\n",
       "4770.0  4.980692e-04\n",
       "4710.0  8.563704e-04\n",
       "4650.0  1.420175e-03\n",
       "4590.0  2.272562e-03\n",
       "4530.0  3.510712e-03\n",
       "4470.0  5.238691e-03\n",
       "4410.0  7.555719e-03\n",
       "4350.0  1.054078e-02\n",
       "4290.0  1.423567e-02\n",
       "4230.0  1.862987e-02\n",
       "...              ...\n",
       "1770.0  7.388802e-02\n",
       "1710.0  7.388802e-02\n",
       "1650.0  7.388802e-02\n",
       "1590.0  7.388802e-02\n",
       "1530.0  7.388802e-02\n",
       "1470.0  7.388802e-02\n",
       "1410.0  7.388802e-02\n",
       "1350.0  7.388802e-02\n",
       "1290.0  7.388802e-02\n",
       "1230.0  7.388802e-02\n",
       "1170.0  7.388802e-02\n",
       "1110.0  7.388802e-02\n",
       "1050.0  7.388803e-02\n",
       "990.0   7.388806e-02\n",
       "930.0   7.388861e-02\n",
       "870.0   7.389469e-02\n",
       "810.0   7.394146e-02\n",
       "750.0   7.419239e-02\n",
       "690.0   7.513174e-02\n",
       "630.0   7.758501e-02\n",
       "570.0   8.205518e-02\n",
       "510.0   8.773787e-02\n",
       "450.0   9.277797e-02\n",
       "390.0   9.589670e-02\n",
       "330.0   9.724309e-02\n",
       "270.0   9.764861e-02\n",
       "210.0   9.773383e-02\n",
       "150.0   9.774632e-02\n",
       "90.0    9.774760e-02\n",
       "30.0    9.774769e-02\n",
       "\n",
       "[100 rows x 1 columns]"
      ]
     },
     "execution_count": 49,
     "metadata": {},
     "output_type": "execute_result"
    }
   ],
   "source": [
    "layerthickness = sd.layerbounderies[:,1] - sd.layerbounderies[:,0]\n",
    "aod_per_bin_per_layer = sd.optical_properties.extinction_coeff_per_bin.multiply(layerthickness, axis=0)\n",
    "aod_per_layer = pd.DataFrame(aod_per_bin_per_layer.sum(axis=1), columns= ['aod_per_layer'])\n",
    "aod = aod_per_layer.values.sum()\n",
    "aod_cumulative = aod_per_layer.iloc[::-1].cumsum()\n",
    "aod_cumulative.rename(columns={'aod_per_layer': 'aod'})"
   ]
  },
  {
   "cell_type": "code",
   "execution_count": null,
   "metadata": {
    "collapsed": true
   },
   "outputs": [],
   "source": []
  },
  {
   "cell_type": "code",
   "execution_count": 6,
   "metadata": {
    "ExecuteTime": {
     "end_time": "2016-12-27T16:09:55.010788",
     "start_time": "2016-12-27T16:09:55.005480"
    }
   },
   "outputs": [
    {
     "data": {
      "text/plain": [
       "dict_keys(['parent_type', 'index_of_refraction', 'absCoeff_perrow_perbin', 'scattCoeff_perrow_perbin', 'angular_scatt_func', 'wavelength', 'bins', 'bin_centers', 'extCoeff_perrow_perbin', 'asymmetry_param', 'binwidth', 'distType'])"
      ]
     },
     "execution_count": 6,
     "metadata": {},
     "output_type": "execute_result"
    }
   ],
   "source": [
    "sd.optical_properties._optical_porperties.keys()"
   ]
  },
  {
   "cell_type": "code",
   "execution_count": 35,
   "metadata": {
    "ExecuteTime": {
     "end_time": "2016-12-21T07:21:19.688638",
     "start_time": "2016-12-21T07:21:19.641362"
    },
    "collapsed": true,
    "deletable": false,
    "editable": false,
    "run_control": {
     "frozen": true
    }
   },
   "outputs": [],
   "source": [
    "fname = './test_data/aerosols_size_dist_LS_optprop.nc'\n",
    "sd.optical_properties.aerosol_optical_depth_cumulative_VP.save_netCDF(fname)"
   ]
  },
  {
   "cell_type": "markdown",
   "metadata": {},
   "source": [
    "### hygroscopic growth"
   ]
  },
  {
   "cell_type": "code",
   "execution_count": 5,
   "metadata": {
    "ExecuteTime": {
     "end_time": "2017-02-16T19:01:33.355826",
     "start_time": "2017-02-16T18:48:07.911311"
    }
   },
   "outputs": [
    {
     "name": "stdout",
     "output_type": "stream",
     "text": [
      "> /Users/htelg/prog/atm-py/atmPy/aerosols/physics/hygroscopicity.py(696)apply_growth2sizedist()\n",
      "-> return sd_grown\n",
      "(Pdb) sd.distributionType\n",
      "'numberConcentration'\n",
      "(Pdb) sd_grown.distributionType\n",
      "'numberConcentration'\n",
      "(Pdb) sd.data == sd_grown.data\n",
      "bincenters_(nm) 10.286785   10.876803   11.500663   12.160306   12.857784    \\\n",
      "30.0                  False       False       False       False       False   \n",
      "90.0                  False       False       False       False       False   \n",
      "150.0                 False       False       False       False       False   \n",
      "210.0                 False       False       False       False       False   \n",
      "270.0                 False       False       False       False       False   \n",
      "330.0                 False       False       False       False       False   \n",
      "390.0                 False       False       False       False       False   \n",
      "450.0                 False       False       False       False       False   \n",
      "510.0                 False       False       False       False       False   \n",
      "570.0                 False       False       False       False       False   \n",
      "630.0                 False       False       False       False       False   \n",
      "690.0                 False       False       False       False       False   \n",
      "750.0                 False       False       False       False       False   \n",
      "810.0                 False       False       False       False       False   \n",
      "870.0                 False       False       False       False       False   \n",
      "930.0                 False       False       False       False       False   \n",
      "990.0                 False       False       False       False       False   \n",
      "1050.0                False       False       False       False       False   \n",
      "1110.0                False       False       False       False       False   \n",
      "1170.0                False       False       False       False       False   \n",
      "1230.0                False       False       False       False       False   \n",
      "1290.0                False       False       False       False       False   \n",
      "1350.0                False       False       False       False       False   \n",
      "1410.0                False       False       False       False       False   \n",
      "1470.0                False       False       False       False       False   \n",
      "1530.0                False       False       False       False       False   \n",
      "1590.0                False       False       False       False       False   \n",
      "1650.0                False       False       False       False       False   \n",
      "1710.0                False       False       False       False       False   \n",
      "1770.0                False       False       False       False       False   \n",
      "...                     ...         ...         ...         ...         ...   \n",
      "4230.0                False       False       False       False       False   \n",
      "4290.0                False       False       False       False       False   \n",
      "4350.0                False       False       False       False       False   \n",
      "4410.0                False       False       False       False       False   \n",
      "4470.0                False       False       False       False       False   \n",
      "4530.0                False       False       False       False       False   \n",
      "4590.0                False       False       False       False       False   \n",
      "4650.0                False       False       False       False       False   \n",
      "4710.0                False       False       False       False       False   \n",
      "4770.0                False       False       False       False       False   \n",
      "4830.0                False       False       False       False       False   \n",
      "4890.0                False       False       False       False       False   \n",
      "4950.0                False       False       False       False       False   \n",
      "5010.0                False       False       False       False       False   \n",
      "5070.0                False       False       False       False       False   \n",
      "5130.0                False       False       False       False       False   \n",
      "5190.0                False       False       False       False       False   \n",
      "5250.0                False       False       False       False       False   \n",
      "5310.0                False       False       False       False       False   \n",
      "5370.0                False       False       False       False       False   \n",
      "5430.0                False       False       False       False       False   \n",
      "5490.0                False       False       False       False       False   \n",
      "5550.0                False       False       False       False       False   \n",
      "5610.0                False       False       False       False       False   \n",
      "5670.0                False       False       False       False       False   \n",
      "5730.0                False       False       False       False       False   \n",
      "5790.0                False       False       False       False       False   \n",
      "5850.0                False       False       False       False       False   \n",
      "5910.0                False       False       False       False       False   \n",
      "5970.0                False       False       False       False       False   \n",
      "\n",
      "bincenters_(nm) 13.595267   14.375049   15.199558   16.071358   16.993162    \\\n",
      "30.0                  False       False       False       False       False   \n",
      "90.0                  False       False       False       False       False   \n",
      "150.0                 False       False       False       False       False   \n",
      "210.0                 False       False       False       False       False   \n",
      "270.0                 False       False       False       False       False   \n",
      "330.0                 False       False       False       False       False   \n",
      "390.0                 False       False       False       False       False   \n",
      "450.0                 False       False       False       False       False   \n",
      "510.0                 False       False       False       False       False   \n",
      "570.0                 False       False       False       False       False   \n",
      "630.0                 False       False       False       False       False   \n",
      "690.0                 False       False       False       False       False   \n",
      "750.0                 False       False       False       False       False   \n",
      "810.0                 False       False       False       False       False   \n",
      "870.0                 False       False       False       False       False   \n",
      "930.0                 False       False       False       False       False   \n",
      "990.0                 False       False       False       False       False   \n",
      "1050.0                False       False       False       False       False   \n",
      "1110.0                False       False       False       False       False   \n",
      "1170.0                False       False       False       False       False   \n",
      "1230.0                False       False       False       False       False   \n",
      "1290.0                False       False       False       False       False   \n",
      "1350.0                False       False       False       False       False   \n",
      "1410.0                False       False       False       False       False   \n",
      "1470.0                False       False       False       False       False   \n",
      "1530.0                False       False       False       False       False   \n",
      "1590.0                False       False       False       False       False   \n",
      "1650.0                False       False       False       False       False   \n",
      "1710.0                False       False       False       False       False   \n",
      "1770.0                False       False       False       False       False   \n",
      "...                     ...         ...         ...         ...         ...   \n",
      "4230.0                False       False       False       False       False   \n",
      "4290.0                False       False       False       False       False   \n",
      "4350.0                False       False       False       False       False   \n",
      "4410.0                False       False       False       False       False   \n",
      "4470.0                False       False       False       False       False   \n",
      "4530.0                False       False       False       False       False   \n",
      "4590.0                False       False       False       False       False   \n",
      "4650.0                False       False       False       False       False   \n",
      "4710.0                False       False       False       False       False   \n",
      "4770.0                False       False       False       False       False   \n",
      "4830.0                False       False       False       False       False   \n",
      "4890.0                False       False       False       False       False   \n",
      "4950.0                False       False       False       False       False   \n",
      "5010.0                False       False       False       False       False   \n",
      "5070.0                False       False       False       False       False   \n",
      "5130.0                False       False       False       False       False   \n",
      "5190.0                False       False       False       False       False   \n",
      "5250.0                False       False       False       False       False   \n",
      "5310.0                False       False       False       False       False   \n",
      "5370.0                False       False       False       False       False   \n",
      "5430.0                False       False       False       False       False   \n",
      "5490.0                False       False       False       False       False   \n",
      "5550.0                False       False       False       False       False   \n",
      "5610.0                False       False       False       False       False   \n",
      "5670.0                False       False       False       False       False   \n",
      "5730.0                False       False       False       False       False   \n",
      "5790.0                False       False       False       False       False   \n",
      "5850.0                False       False       False       False       False   \n",
      "5910.0                False       False       False       False       False   \n",
      "5970.0                False       False       False       False       False   \n",
      "\n",
      "bincenters_(nm)     ...     3799.889527 4017.839526 4248.290469 4491.959370  \\\n",
      "30.0                ...            True        True        True        True   \n",
      "90.0                ...            True        True        True        True   \n",
      "150.0               ...            True        True        True        True   \n",
      "210.0               ...            True        True        True        True   \n",
      "270.0               ...            True        True        True        True   \n",
      "330.0               ...            True        True        True        True   \n",
      "390.0               ...            True        True        True        True   \n",
      "450.0               ...            True        True        True        True   \n",
      "510.0               ...            True        True        True        True   \n",
      "570.0               ...            True        True        True        True   \n",
      "630.0               ...            True        True        True        True   \n",
      "690.0               ...            True        True        True        True   \n",
      "750.0               ...            True        True        True        True   \n",
      "810.0               ...            True        True        True        True   \n",
      "870.0               ...            True        True        True        True   \n",
      "930.0               ...            True        True        True        True   \n",
      "990.0               ...            True        True        True        True   \n",
      "1050.0              ...            True        True        True        True   \n",
      "1110.0              ...            True        True        True        True   \n",
      "1170.0              ...            True        True        True        True   \n",
      "1230.0              ...            True        True        True        True   \n",
      "1290.0              ...            True        True        True        True   \n",
      "1350.0              ...            True        True        True        True   \n",
      "1410.0              ...            True        True        True        True   \n",
      "1470.0              ...            True        True        True        True   \n",
      "1530.0              ...            True        True        True        True   \n",
      "1590.0              ...            True        True        True        True   \n",
      "1650.0              ...            True        True        True        True   \n",
      "1710.0              ...            True        True        True        True   \n",
      "1770.0              ...            True        True        True        True   \n",
      "...                 ...             ...         ...         ...         ...   \n",
      "4230.0              ...            True        True        True        True   \n",
      "4290.0              ...            True        True        True        True   \n",
      "4350.0              ...            True        True        True        True   \n",
      "4410.0              ...            True        True        True        True   \n",
      "4470.0              ...            True        True        True        True   \n",
      "4530.0              ...            True        True        True        True   \n",
      "4590.0              ...            True        True        True        True   \n",
      "4650.0              ...            True        True        True        True   \n",
      "4710.0              ...            True        True        True        True   \n",
      "4770.0              ...            True        True        True        True   \n",
      "4830.0              ...            True        True        True        True   \n",
      "4890.0              ...            True        True        True        True   \n",
      "4950.0              ...            True        True        True        True   \n",
      "5010.0              ...            True        True        True        True   \n",
      "5070.0              ...            True        True        True        True   \n",
      "5130.0              ...            True        True        True        True   \n",
      "5190.0              ...            True        True        True        True   \n",
      "5250.0              ...            True        True        True        True   \n",
      "5310.0              ...            True        True        True        True   \n",
      "5370.0              ...            True        True        True        True   \n",
      "5430.0              ...            True        True        True        True   \n",
      "5490.0              ...            True        True        True        True   \n",
      "5550.0              ...            True        True        True        True   \n",
      "5610.0              ...            True        True        True        True   \n",
      "5670.0              ...            True        True        True        True   \n",
      "5730.0              ...            True        True        True        True   \n",
      "5790.0              ...            True        True        True        True   \n",
      "5850.0              ...            True        True        True        True   \n",
      "5910.0              ...            True        True        True        True   \n",
      "5970.0              ...            True        True        True        True   \n",
      "\n",
      "bincenters_(nm) 4749.604372 5022.027100 5310.075159 5614.644771 5936.683561  \\\n",
      "30.0                  False       False       False       False       False   \n",
      "90.0                  False       False       False       False       False   \n",
      "150.0                 False       False       False       False       False   \n",
      "210.0                 False       False       False       False       False   \n",
      "270.0                 False       False       False       False       False   \n",
      "330.0                 False       False       False       False       False   \n",
      "390.0                 False       False       False       False       False   \n",
      "450.0                 False       False       False       False       False   \n",
      "510.0                 False       False       False       False       False   \n",
      "570.0                 False       False       False       False       False   \n",
      "630.0                 False       False       False       False       False   \n",
      "690.0                 False       False       False       False       False   \n",
      "750.0                 False       False       False       False       False   \n",
      "810.0                 False       False       False       False       False   \n",
      "870.0                 False       False       False       False       False   \n",
      "930.0                 False       False       False       False       False   \n",
      "990.0                 False       False       False       False       False   \n",
      "1050.0                False       False       False       False       False   \n",
      "1110.0                False       False       False       False       False   \n",
      "1170.0                False       False       False       False       False   \n",
      "1230.0                False       False       False       False       False   \n",
      "1290.0                False       False       False       False       False   \n",
      "1350.0                False       False       False       False       False   \n",
      "1410.0                False       False       False       False       False   \n",
      "1470.0                False       False       False       False       False   \n",
      "1530.0                False       False       False       False       False   \n",
      "1590.0                False       False       False       False       False   \n",
      "1650.0                False       False       False       False       False   \n",
      "1710.0                False       False       False       False       False   \n",
      "1770.0                False       False       False       False       False   \n",
      "...                     ...         ...         ...         ...         ...   \n",
      "4230.0                False       False       False       False       False   \n",
      "4290.0                False       False       False       False       False   \n",
      "4350.0                False       False       False       False       False   \n",
      "4410.0                False       False       False       False       False   \n",
      "4470.0                False       False       False       False       False   \n",
      "4530.0                False       False       False       False       False   \n",
      "4590.0                False       False       False       False       False   \n",
      "4650.0                False       False       False       False       False   \n",
      "4710.0                False       False       False       False       False   \n",
      "4770.0                False       False       False       False       False   \n",
      "4830.0                False       False       False       False       False   \n",
      "4890.0                False       False       False       False       False   \n",
      "4950.0                False       False       False       False       False   \n",
      "5010.0                False       False       False       False       False   \n",
      "5070.0                False       False       False       False       False   \n",
      "5130.0                False       False       False       False       False   \n",
      "5190.0                False       False       False       False       False   \n",
      "5250.0                False       False       False       False       False   \n",
      "5310.0                False       False       False       False       False   \n",
      "5370.0                False       False       False       False       False   \n",
      "5430.0                False       False       False       False       False   \n",
      "5490.0                False       False       False       False       False   \n",
      "5550.0                False       False       False       False       False   \n",
      "5610.0                False       False       False       False       False   \n",
      "5670.0                False       False       False       False       False   \n",
      "5730.0                False       False       False       False       False   \n",
      "5790.0                False       False       False       False       False   \n",
      "5850.0                False       False       False       False       False   \n",
      "5910.0                False       False       False       False       False   \n",
      "5970.0                False       False       False       False       False   \n",
      "\n",
      "bincenters_(nm) 6277.193508  \n",
      "30.0                  False  \n",
      "90.0                  False  \n",
      "150.0                 False  \n",
      "210.0                 False  \n",
      "270.0                 False  \n",
      "330.0                 False  \n",
      "390.0                 False  \n",
      "450.0                 False  \n",
      "510.0                 False  \n",
      "570.0                 False  \n",
      "630.0                 False  \n",
      "690.0                 False  \n",
      "750.0                 False  \n",
      "810.0                 False  \n",
      "870.0                 False  \n",
      "930.0                 False  \n",
      "990.0                 False  \n",
      "1050.0                False  \n",
      "1110.0                False  \n",
      "1170.0                False  \n",
      "1230.0                False  \n",
      "1290.0                False  \n",
      "1350.0                False  \n",
      "1410.0                False  \n",
      "1470.0                False  \n",
      "1530.0                False  \n",
      "1590.0                False  \n",
      "1650.0                False  \n",
      "1710.0                False  \n",
      "1770.0                False  \n",
      "...                     ...  \n",
      "4230.0                False  \n",
      "4290.0                False  \n",
      "4350.0                False  \n",
      "4410.0                False  \n",
      "4470.0                False  \n",
      "4530.0                False  \n",
      "4590.0                False  \n",
      "4650.0                False  \n",
      "4710.0                False  \n",
      "4770.0                False  \n",
      "4830.0                False  \n",
      "4890.0                False  \n",
      "4950.0                False  \n",
      "5010.0                False  \n",
      "5070.0                False  \n",
      "5130.0                False  \n",
      "5190.0                False  \n",
      "5250.0                False  \n",
      "5310.0                False  \n",
      "5370.0                False  \n",
      "5430.0                False  \n",
      "5490.0                False  \n",
      "5550.0                False  \n",
      "5610.0                False  \n",
      "5670.0                False  \n",
      "5730.0                False  \n",
      "5790.0                False  \n",
      "5850.0                False  \n",
      "5910.0                False  \n",
      "5970.0                False  \n",
      "\n",
      "[100 rows x 116 columns]\n",
      "(Pdb) sd.data.values == sd_grown.data.values\n",
      "array([[False, False, False, ..., False, False, False],\n",
      "       [False, False, False, ..., False, False, False],\n",
      "       [False, False, False, ..., False, False, False],\n",
      "       ..., \n",
      "       [False, False, False, ..., False, False, False],\n",
      "       [False, False, False, ..., False, False, False],\n",
      "       [False, False, False, ..., False, False, False]], dtype=bool)\n",
      "(Pdb) sd.data.values[0,0]\n",
      "nan\n",
      "(Pdb) sd.data.values[0,0], sd_grown.data.values[0,0]\n",
      "(nan, nan)\n",
      "(Pdb) sd.data.values[10,10]\n",
      "nan\n",
      "(Pdb) sd.data.values[100,0]\n",
      "*** IndexError: index 100 is out of bounds for axis 0 with size 100\n",
      "(Pdb) sd.data.values[0,100]\n",
      "1.0288326149418536e-07\n",
      "(Pdb) sd.data.values[0,100], sd_grown.data.values[0,100]\n",
      "(1.0288326149418536e-07, 1.0288326149418536e-07)\n",
      "(Pdb) (sd.data.values == sd_grown.data.values).sum()\n",
      "9800\n",
      "(Pdb) sd.data.colums == sd_grown.data.colums\n",
      "*** AttributeError: 'DataFrame' object has no attribute 'colums'\n",
      "(Pdb) sd.data.columns == sd_grown.data.columns\n",
      "array([ True,  True,  True,  True,  True,  True,  True,  True,  True,\n",
      "        True,  True,  True,  True,  True,  True,  True,  True,  True,\n",
      "        True,  True,  True,  True,  True,  True,  True,  True,  True,\n",
      "        True,  True,  True,  True,  True,  True,  True,  True,  True,\n",
      "        True,  True,  True,  True,  True,  True,  True,  True,  True,\n",
      "        True,  True,  True,  True,  True,  True,  True,  True,  True,\n",
      "        True,  True,  True,  True,  True,  True,  True,  True,  True,\n",
      "        True,  True,  True,  True,  True,  True,  True,  True,  True,\n",
      "        True,  True,  True,  True,  True,  True,  True,  True,  True,\n",
      "        True,  True,  True,  True,  True,  True,  True,  True,  True,\n",
      "        True,  True,  True,  True,  True,  True,  True,  True,  True,\n",
      "        True,  True,  True,  True,  True,  True,  True,  True,  True,\n",
      "        True,  True,  True,  True,  True,  True,  True,  True], dtype=bool)\n",
      "(Pdb) sd.parameters4reduction\n",
      "*** AttributeError: 'SizeDist_LS' object has no attribute 'parameters4reduction'\n",
      "(Pdb) sd.parameters4reductions\n",
      "RH                  :  <atmPy.general.vertical_profile.VerticalProfile object at 0x110ba2358>\n",
      "growth_distribution :  None\n",
      "kappa               :  0.7\n",
      "particle_density    :  1.8\n",
      "refractive_index    :  1.56\n",
      "wavelength          :  515\n",
      "(Pdb) sd_grown.parameters4reductions\n",
      "RH                  :  None\n",
      "growth_distribution :  None\n",
      "kappa               :  None\n",
      "particle_density    :  1.8\n",
      "refractive_index    :  None\n",
      "wavelength          :  515\n",
      "(Pdb) exit\n"
     ]
    },
    {
     "ename": "BdbQuit",
     "evalue": "",
     "output_type": "error",
     "traceback": [
      "\u001b[0;31m---------------------------------------------------------------------------\u001b[0m",
      "\u001b[0;31mBdbQuit\u001b[0m                                   Traceback (most recent call last)",
      "\u001b[0;32m<ipython-input-5-0665276fdbd1>\u001b[0m in \u001b[0;36m<module>\u001b[0;34m()\u001b[0m\n\u001b[1;32m      1\u001b[0m \u001b[0msdto\u001b[0m \u001b[0;34m=\u001b[0m \u001b[0mnose_tests\u001b[0m\u001b[0;34m.\u001b[0m\u001b[0mSizeDistTest\u001b[0m\u001b[0;34m(\u001b[0m\u001b[0;34m)\u001b[0m\u001b[0;34m\u001b[0m\u001b[0m\n\u001b[1;32m      2\u001b[0m \u001b[0msdto\u001b[0m\u001b[0;34m.\u001b[0m\u001b[0mtest_opt_prop_LS\u001b[0m\u001b[0;34m(\u001b[0m\u001b[0;34m)\u001b[0m\u001b[0;34m\u001b[0m\u001b[0m\n\u001b[0;32m----> 3\u001b[0;31m \u001b[0msdto\u001b[0m\u001b[0;34m.\u001b[0m\u001b[0mtest_growth_opt_propLS\u001b[0m\u001b[0;34m(\u001b[0m\u001b[0;34m)\u001b[0m\u001b[0;34m\u001b[0m\u001b[0m\n\u001b[0m",
      "\u001b[0;32m/Users/htelg/prog/atm-py/atmPy/unit_testing/nose_tests.py\u001b[0m in \u001b[0;36mtest_growth_opt_propLS\u001b[0;34m(self)\u001b[0m\n\u001b[1;32m    165\u001b[0m         \u001b[0;31m# let it grow\u001b[0m\u001b[0;34m\u001b[0m\u001b[0;34m\u001b[0m\u001b[0m\n\u001b[1;32m    166\u001b[0m         \u001b[0msdto\u001b[0m\u001b[0;34m.\u001b[0m\u001b[0msizedistributionLS\u001b[0m\u001b[0;34m.\u001b[0m\u001b[0mhygroscopicity\u001b[0m\u001b[0;34m.\u001b[0m\u001b[0mparameters\u001b[0m\u001b[0;34m.\u001b[0m\u001b[0mkappa\u001b[0m \u001b[0;34m=\u001b[0m \u001b[0;36m0.7\u001b[0m\u001b[0;34m\u001b[0m\u001b[0m\n\u001b[0;32m--> 167\u001b[0;31m         \u001b[0mdistg\u001b[0m \u001b[0;34m=\u001b[0m \u001b[0msdto\u001b[0m\u001b[0;34m.\u001b[0m\u001b[0msizedistributionLS\u001b[0m\u001b[0;34m.\u001b[0m\u001b[0mhygroscopicity\u001b[0m\u001b[0;34m.\u001b[0m\u001b[0mgrown_size_distribution\u001b[0m\u001b[0;34m\u001b[0m\u001b[0m\n\u001b[0m\u001b[1;32m    168\u001b[0m         \u001b[0mdistg\u001b[0m\u001b[0;34m.\u001b[0m\u001b[0moptical_properties\u001b[0m\u001b[0;34m.\u001b[0m\u001b[0mparameters\u001b[0m\u001b[0;34m.\u001b[0m\u001b[0mwavelength\u001b[0m \u001b[0;34m=\u001b[0m \u001b[0msdto\u001b[0m\u001b[0;34m.\u001b[0m\u001b[0msizedistributionLS\u001b[0m\u001b[0;34m.\u001b[0m\u001b[0moptical_properties\u001b[0m\u001b[0;34m.\u001b[0m\u001b[0mparameters\u001b[0m\u001b[0;34m.\u001b[0m\u001b[0mwavelength\u001b[0m\u001b[0;34m.\u001b[0m\u001b[0mvalue\u001b[0m\u001b[0;34m\u001b[0m\u001b[0m\n\u001b[1;32m    169\u001b[0m \u001b[0;34m\u001b[0m\u001b[0m\n",
      "\u001b[0;32m/Users/htelg/prog/atm-py/atmPy/aerosols/physics/hygroscopicity.py\u001b[0m in \u001b[0;36mgrown_size_distribution\u001b[0;34m(self)\u001b[0m\n\u001b[1;32m    878\u001b[0m             \u001b[0;32mif\u001b[0m \u001b[0mself\u001b[0m\u001b[0;34m.\u001b[0m\u001b[0mparameters\u001b[0m\u001b[0;34m.\u001b[0m\u001b[0mkappa\u001b[0m\u001b[0;34m:\u001b[0m\u001b[0;34m\u001b[0m\u001b[0m\n\u001b[1;32m    879\u001b[0m                 \u001b[0;31m# self._grown_size_distribution = self._parent_sizedist.apply_hygro_growth(self.parameters.kappa.value, self.parameters.RH.value)\u001b[0m\u001b[0;34m\u001b[0m\u001b[0;34m\u001b[0m\u001b[0m\n\u001b[0;32m--> 880\u001b[0;31m                 \u001b[0mself\u001b[0m\u001b[0;34m.\u001b[0m\u001b[0m_grown_size_distribution\u001b[0m \u001b[0;34m=\u001b[0m \u001b[0mapply_hygro_growth2sizedist\u001b[0m\u001b[0;34m(\u001b[0m\u001b[0mself\u001b[0m\u001b[0;34m.\u001b[0m\u001b[0m_parent_sizedist\u001b[0m\u001b[0;34m)\u001b[0m\u001b[0;34m\u001b[0m\u001b[0m\n\u001b[0m\u001b[1;32m    881\u001b[0m             \u001b[0;32melse\u001b[0m\u001b[0;34m:\u001b[0m\u001b[0;34m\u001b[0m\u001b[0m\n\u001b[1;32m    882\u001b[0m                 \u001b[0mself\u001b[0m\u001b[0;34m.\u001b[0m\u001b[0m_grown_size_distribution\u001b[0m \u001b[0;34m=\u001b[0m \u001b[0mSizeDistGrownByGrowthDistribution\u001b[0m\u001b[0;34m(\u001b[0m\u001b[0mself\u001b[0m\u001b[0;34m)\u001b[0m \u001b[0;31m#apply_growth_distribution_on_sizedist(self._parent_sizedist, self.parameters.growth_distribution.value, self.parameters.RH.value)\u001b[0m\u001b[0;34m\u001b[0m\u001b[0m\n",
      "\u001b[0;32m/Users/htelg/prog/atm-py/atmPy/aerosols/physics/hygroscopicity.py\u001b[0m in \u001b[0;36mapply_hygro_growth2sizedist\u001b[0;34m(sizedist, how, adjust_refractive_index)\u001b[0m\n\u001b[1;32m    738\u001b[0m             \u001b[0;32mraise\u001b[0m \u001b[0mTypeError\u001b[0m\u001b[0;34m(\u001b[0m\u001b[0mtxt\u001b[0m\u001b[0;34m)\u001b[0m\u001b[0;34m\u001b[0m\u001b[0m\n\u001b[1;32m    739\u001b[0m \u001b[0;34m\u001b[0m\u001b[0m\n\u001b[0;32m--> 740\u001b[0;31m     \u001b[0mdist_g\u001b[0m \u001b[0;34m=\u001b[0m \u001b[0mapply_growth2sizedist\u001b[0m\u001b[0;34m(\u001b[0m\u001b[0mdist_g\u001b[0m\u001b[0;34m,\u001b[0m \u001b[0mgf\u001b[0m\u001b[0;34m)\u001b[0m\u001b[0;34m\u001b[0m\u001b[0m\n\u001b[0m\u001b[1;32m    741\u001b[0m     \u001b[0mdist_g\u001b[0m\u001b[0;34m.\u001b[0m\u001b[0mgf\u001b[0m \u001b[0;34m=\u001b[0m \u001b[0mgf\u001b[0m\u001b[0;34m\u001b[0m\u001b[0m\n\u001b[1;32m    742\u001b[0m     \u001b[0;32mif\u001b[0m \u001b[0mhow\u001b[0m \u001b[0;34m==\u001b[0m \u001b[0;34m'shift_bins'\u001b[0m\u001b[0;34m:\u001b[0m\u001b[0;34m\u001b[0m\u001b[0m\n",
      "\u001b[0;32m/Users/htelg/prog/atm-py/atmPy/aerosols/physics/hygroscopicity.py\u001b[0m in \u001b[0;36mapply_growth2sizedist\u001b[0;34m(sd, gf)\u001b[0m\n\u001b[1;32m    694\u001b[0m \u001b[0;34m\u001b[0m\u001b[0m\n\u001b[1;32m    695\u001b[0m     \u001b[0;32mimport\u001b[0m \u001b[0mpdb\u001b[0m\u001b[0;34m;\u001b[0m \u001b[0mpdb\u001b[0m\u001b[0;34m.\u001b[0m\u001b[0mset_trace\u001b[0m\u001b[0;34m(\u001b[0m\u001b[0;34m)\u001b[0m\u001b[0;34m\u001b[0m\u001b[0m\n\u001b[0;32m--> 696\u001b[0;31m     \u001b[0;32mreturn\u001b[0m \u001b[0msd_grown\u001b[0m\u001b[0;34m\u001b[0m\u001b[0m\n\u001b[0m\u001b[1;32m    697\u001b[0m \u001b[0;34m\u001b[0m\u001b[0m\n\u001b[1;32m    698\u001b[0m \u001b[0;34m\u001b[0m\u001b[0m\n",
      "\u001b[0;32m/Users/htelg/prog/atm-py/atmPy/aerosols/physics/hygroscopicity.py\u001b[0m in \u001b[0;36mapply_growth2sizedist\u001b[0;34m(sd, gf)\u001b[0m\n\u001b[1;32m    694\u001b[0m \u001b[0;34m\u001b[0m\u001b[0m\n\u001b[1;32m    695\u001b[0m     \u001b[0;32mimport\u001b[0m \u001b[0mpdb\u001b[0m\u001b[0;34m;\u001b[0m \u001b[0mpdb\u001b[0m\u001b[0;34m.\u001b[0m\u001b[0mset_trace\u001b[0m\u001b[0;34m(\u001b[0m\u001b[0;34m)\u001b[0m\u001b[0;34m\u001b[0m\u001b[0m\n\u001b[0;32m--> 696\u001b[0;31m     \u001b[0;32mreturn\u001b[0m \u001b[0msd_grown\u001b[0m\u001b[0;34m\u001b[0m\u001b[0m\n\u001b[0m\u001b[1;32m    697\u001b[0m \u001b[0;34m\u001b[0m\u001b[0m\n\u001b[1;32m    698\u001b[0m \u001b[0;34m\u001b[0m\u001b[0m\n",
      "\u001b[0;32m/opt/local/Library/Frameworks/Python.framework/Versions/3.5/lib/python3.5/bdb.py\u001b[0m in \u001b[0;36mtrace_dispatch\u001b[0;34m(self, frame, event, arg)\u001b[0m\n\u001b[1;32m     46\u001b[0m             \u001b[0;32mreturn\u001b[0m \u001b[0;31m# None\u001b[0m\u001b[0;34m\u001b[0m\u001b[0m\n\u001b[1;32m     47\u001b[0m         \u001b[0;32mif\u001b[0m \u001b[0mevent\u001b[0m \u001b[0;34m==\u001b[0m \u001b[0;34m'line'\u001b[0m\u001b[0;34m:\u001b[0m\u001b[0;34m\u001b[0m\u001b[0m\n\u001b[0;32m---> 48\u001b[0;31m             \u001b[0;32mreturn\u001b[0m \u001b[0mself\u001b[0m\u001b[0;34m.\u001b[0m\u001b[0mdispatch_line\u001b[0m\u001b[0;34m(\u001b[0m\u001b[0mframe\u001b[0m\u001b[0;34m)\u001b[0m\u001b[0;34m\u001b[0m\u001b[0m\n\u001b[0m\u001b[1;32m     49\u001b[0m         \u001b[0;32mif\u001b[0m \u001b[0mevent\u001b[0m \u001b[0;34m==\u001b[0m \u001b[0;34m'call'\u001b[0m\u001b[0;34m:\u001b[0m\u001b[0;34m\u001b[0m\u001b[0m\n\u001b[1;32m     50\u001b[0m             \u001b[0;32mreturn\u001b[0m \u001b[0mself\u001b[0m\u001b[0;34m.\u001b[0m\u001b[0mdispatch_call\u001b[0m\u001b[0;34m(\u001b[0m\u001b[0mframe\u001b[0m\u001b[0;34m,\u001b[0m \u001b[0marg\u001b[0m\u001b[0;34m)\u001b[0m\u001b[0;34m\u001b[0m\u001b[0m\n",
      "\u001b[0;32m/opt/local/Library/Frameworks/Python.framework/Versions/3.5/lib/python3.5/bdb.py\u001b[0m in \u001b[0;36mdispatch_line\u001b[0;34m(self, frame)\u001b[0m\n\u001b[1;32m     65\u001b[0m         \u001b[0;32mif\u001b[0m \u001b[0mself\u001b[0m\u001b[0;34m.\u001b[0m\u001b[0mstop_here\u001b[0m\u001b[0;34m(\u001b[0m\u001b[0mframe\u001b[0m\u001b[0;34m)\u001b[0m \u001b[0;32mor\u001b[0m \u001b[0mself\u001b[0m\u001b[0;34m.\u001b[0m\u001b[0mbreak_here\u001b[0m\u001b[0;34m(\u001b[0m\u001b[0mframe\u001b[0m\u001b[0;34m)\u001b[0m\u001b[0;34m:\u001b[0m\u001b[0;34m\u001b[0m\u001b[0m\n\u001b[1;32m     66\u001b[0m             \u001b[0mself\u001b[0m\u001b[0;34m.\u001b[0m\u001b[0muser_line\u001b[0m\u001b[0;34m(\u001b[0m\u001b[0mframe\u001b[0m\u001b[0;34m)\u001b[0m\u001b[0;34m\u001b[0m\u001b[0m\n\u001b[0;32m---> 67\u001b[0;31m             \u001b[0;32mif\u001b[0m \u001b[0mself\u001b[0m\u001b[0;34m.\u001b[0m\u001b[0mquitting\u001b[0m\u001b[0;34m:\u001b[0m \u001b[0;32mraise\u001b[0m \u001b[0mBdbQuit\u001b[0m\u001b[0;34m\u001b[0m\u001b[0m\n\u001b[0m\u001b[1;32m     68\u001b[0m         \u001b[0;32mreturn\u001b[0m \u001b[0mself\u001b[0m\u001b[0;34m.\u001b[0m\u001b[0mtrace_dispatch\u001b[0m\u001b[0;34m\u001b[0m\u001b[0m\n\u001b[1;32m     69\u001b[0m \u001b[0;34m\u001b[0m\u001b[0m\n",
      "\u001b[0;31mBdbQuit\u001b[0m: "
     ]
    }
   ],
   "source": [
    "sdto = nose_tests.SizeDistTest()\n",
    "sdto.test_opt_prop_LS()\n",
    "sdto.test_growth_opt_propLS()"
   ]
  },
  {
   "cell_type": "code",
   "execution_count": 4,
   "metadata": {
    "ExecuteTime": {
     "end_time": "2017-02-16T18:48:02.224976",
     "start_time": "2017-02-16T18:48:02.219709"
    }
   },
   "outputs": [
    {
     "data": {
      "text/plain": [
       "'dNdDp'"
      ]
     },
     "execution_count": 4,
     "metadata": {},
     "output_type": "execute_result"
    }
   ],
   "source": [
    "sdto.sizedistributionLS.distributionType"
   ]
  },
  {
   "cell_type": "code",
   "execution_count": 1,
   "metadata": {
    "ExecuteTime": {
     "end_time": "2017-02-16T19:34:33.588771",
     "start_time": "2017-02-16T19:34:32.697954"
    }
   },
   "outputs": [],
   "source": [
    "from atmPy.unit_testing import nose_tests\n",
    "from atmPy.general import vertical_profile\n",
    "import atmPy\n",
    "%matplotlib inline\n",
    "# nose_tests.size_distribution.sizedistribution.settings"
   ]
  },
  {
   "cell_type": "code",
   "execution_count": 2,
   "metadata": {
    "ExecuteTime": {
     "end_time": "2017-02-16T19:34:34.698682",
     "start_time": "2017-02-16T19:34:33.908854"
    }
   },
   "outputs": [
    {
     "name": "stdout",
     "output_type": "stream",
     "text": [
      "calculating opt prop\n"
     ]
    }
   ],
   "source": [
    "# use the same dist_LS as in test_opt_prop_LS\n",
    "sdto = nose_tests.SizeDistTest()\n",
    "sdto.test_opt_prop_LS()\n",
    "\n",
    "# generate some RH which we can put into the housekeeping\n",
    "hk = pd.DataFrame(index = sdto.sizedistributionLS.data.index, columns=['Relative_humidity'])\n",
    "hk['Relative_humidity'] = 90\n",
    "hk = vertical_profile.VerticalProfile(hk)\n",
    "sdto.sizedistributionLS.housekeeping = hk\n",
    "\n",
    "sdto.sizedistributionLS.hygroscopicity.parameters.RH = hk\n",
    "\n",
    "# let it grow\n",
    "sdto.sizedistributionLS.hygroscopicity.parameters.kappa = 0.7\n",
    "\n",
    "distg = sdto.sizedistributionLS.hygroscopicity.grown_size_distribution\n",
    "\n",
    "distg.optical_properties.parameters.wavelength = sdto.sizedistributionLS.optical_properties.parameters.wavelength.value\n",
    "\n",
    "# load the test data\n",
    "fname = './test_data/aerosols_size_dist_LS_hyg_growth_optprop.nc'\n",
    "aodcs = atmPy.read_file.netCDF(fname)\n",
    "\n",
    "threshold = distg.optical_properties.aod_cumulative.data.values.sum() * 1e-5\n",
    "\n",
    "res = np.abs(distg.optical_properties.aod_cumulative.data.values\n",
    " - aodcs.data.values).sum() < threshold\n",
    "print(np.abs(distg.optical_properties.aod_cumulative.data.values\n",
    " - aodcs.data.values).sum() , threshold), res"
   ]
  },
  {
   "cell_type": "code",
   "execution_count": 13,
   "metadata": {
    "ExecuteTime": {
     "end_time": "2017-02-06T13:04:06.512746",
     "start_time": "2017-02-06T13:04:05.917552"
    }
   },
   "outputs": [
    {
     "data": {
      "text/plain": [
       "(<matplotlib.figure.Figure at 0x107df4be0>,\n",
       " <matplotlib.axes._subplots.AxesSubplot at 0x109dbc6a0>,\n",
       " <matplotlib.collections.QuadMesh at 0x109dbcc50>,\n",
       " <matplotlib.colorbar.Colorbar at 0x1099f0198>)"
      ]
     },
     "execution_count": 13,
     "metadata": {},
     "output_type": "execute_result"
    },
    {
     "data": {
      "image/png": "[encoded data removed]",
      "text/plain": [
       "<matplotlib.figure.Figure at 0x107df4be0>"
      ]
     },
     "metadata": {},
     "output_type": "display_data"
    }
   ],
   "source": [
    "distg.plot()"
   ]
  },
  {
   "cell_type": "code",
   "execution_count": 25,
   "metadata": {
    "ExecuteTime": {
     "end_time": "2017-02-06T12:50:55.975410",
     "start_time": "2017-02-06T12:50:55.736262"
    }
   },
   "outputs": [
    {
     "data": {
      "text/plain": [
       "<matplotlib.axes._subplots.AxesSubplot at 0x10c0614a8>"
      ]
     },
     "execution_count": 25,
     "metadata": {},
     "output_type": "execute_result"
    },
    {
     "data": {
      "image/png": "[encoded data removed]",
      "text/plain": [
       "<matplotlib.figure.Figure at 0x10c81fc88>"
      ]
     },
     "metadata": {},
     "output_type": "display_data"
    }
   ],
   "source": [
    "a = aodcs.plot()\n",
    "distg.optical_properties.aod_cumulative.plot(ax = a)"
   ]
  },
  {
   "cell_type": "code",
   "execution_count": 33,
   "metadata": {
    "ExecuteTime": {
     "end_time": "2017-02-06T12:53:16.460588",
     "start_time": "2017-02-06T12:53:16.144050"
    }
   },
   "outputs": [
    {
     "data": {
      "text/plain": [
       "<matplotlib.axes._subplots.AxesSubplot at 0x10803a6a0>"
      ]
     },
     "execution_count": 33,
     "metadata": {},
     "output_type": "execute_result"
    },
    {
     "data": {
      "image/png": "[encoded data removed]",
      "text/plain": [
       "<matplotlib.figure.Figure at 0x10c08d7f0>"
      ]
     },
     "metadata": {},
     "output_type": "display_data"
    }
   ],
   "source": [
    "(aodcs.data.iloc[:,0] / distg.optical_properties.aod_cumulative.data.iloc[:,0]).plot()"
   ]
  },
  {
   "cell_type": "code",
   "execution_count": 15,
   "metadata": {
    "ExecuteTime": {
     "end_time": "2017-02-06T13:08:20.198804",
     "start_time": "2017-02-06T13:08:19.955748"
    }
   },
   "outputs": [
    {
     "data": {
      "text/plain": [
       "<matplotlib.axes._subplots.AxesSubplot at 0x109cea048>"
      ]
     },
     "execution_count": 15,
     "metadata": {},
     "output_type": "execute_result"
    },
    {
     "data": {
      "image/png": "[encoded data removed]",
      "text/plain": [
       "<matplotlib.figure.Figure at 0x10df494e0>"
      ]
     },
     "metadata": {},
     "output_type": "display_data"
    }
   ],
   "source": [
    "distg.optical_properties.aod_cumulative.plot()"
   ]
  },
  {
   "cell_type": "code",
   "execution_count": null,
   "metadata": {
    "collapsed": true
   },
   "outputs": [],
   "source": []
  },
  {
   "cell_type": "code",
   "execution_count": null,
   "metadata": {
    "collapsed": true
   },
   "outputs": [],
   "source": []
  },
  {
   "cell_type": "code",
   "execution_count": 16,
   "metadata": {
    "ExecuteTime": {
     "end_time": "2017-02-06T13:08:32.652015",
     "start_time": "2017-02-06T13:08:32.410407"
    },
    "deletable": false,
    "editable": false,
    "run_control": {
     "frozen": true
    }
   },
   "outputs": [],
   "source": [
    "fname = './test_data/aerosols_size_dist_LS_hyg_growth_optprop.nc'\n",
    "distg.optical_properties.aod_cumulative.save_netCDF(fname)"
   ]
  },
  {
   "cell_type": "markdown",
   "metadata": {},
   "source": [
    "## physics"
   ]
  },
  {
   "cell_type": "markdown",
   "metadata": {},
   "source": [
    "### hygroscopicity"
   ]
  },
  {
   "cell_type": "markdown",
   "metadata": {},
   "source": [
    "#### growth_factor_distribution"
   ]
  },
  {
   "cell_type": "code",
   "execution_count": 3,
   "metadata": {
    "ExecuteTime": {
     "end_time": "2017-01-09T09:11:29.611988",
     "start_time": "2017-01-09T09:11:29.599806"
    },
    "collapsed": true
   },
   "outputs": [],
   "source": [
    "from atmPy.aerosols.physics import hygroscopicity as hyg\n",
    "from atmPy.data_archives import arm\n",
    "from atmPy.unit_testing import nose_tests"
   ]
  },
  {
   "cell_type": "code",
   "execution_count": 4,
   "metadata": {
    "ExecuteTime": {
     "end_time": "2017-01-09T09:11:30.155056",
     "start_time": "2017-01-09T09:11:30.151377"
    }
   },
   "outputs": [],
   "source": [
    "sdto = nose_tests.PhysicsHygroscopicityTest()"
   ]
  },
  {
   "cell_type": "code",
   "execution_count": 5,
   "metadata": {
    "ExecuteTime": {
     "end_time": "2017-01-09T09:11:32.366024",
     "start_time": "2017-01-09T09:11:31.344069"
    }
   },
   "outputs": [],
   "source": [
    "sdto.test_hygroscopic_growth_factor_distributions()"
   ]
  },
  {
   "cell_type": "code",
   "execution_count": 14,
   "metadata": {
    "ExecuteTime": {
     "end_time": "2017-01-09T09:09:30.627809",
     "start_time": "2017-01-09T09:09:29.206434"
    }
   },
   "outputs": [
    {
     "name": "stdout",
     "output_type": "stream",
     "text": [
      "0.00013942675005562856 0.00028999998226984477 True\n",
      "1.0720131907726582e-06 1.0701970171113901e-05 True\n",
      "1.46980131315e-05 2.3521201654915003e-05 True\n"
     ]
    },
    {
     "name": "stderr",
     "output_type": "stream",
     "text": [
      "/opt/local/Library/Frameworks/Python.framework/Versions/3.5/lib/python3.5/site-packages/matplotlib/colors.py:581: RuntimeWarning: invalid value encountered in less\n",
      "  cbook._putmask(xa, xa < 0.0, -1)\n"
     ]
    },
    {
     "data": {
      "image/png": "[encoded data removed]",
      "text/plain": [
       "<matplotlib.figure.Figure at 0x10d5b77f0>"
      ]
     },
     "metadata": {},
     "output_type": "display_data"
    }
   ],
   "source": [
    "fname = './test_data/sgptdmahygC1.b1.20120601.004227.cdf'\n",
    "out = arm.read_netCDF(fname, data_quality= 'patchy', leave_cdf_open= False)\n",
    "hgfd = hyg.HygroscopicGrowthFactorDistributions(out.hyg_distributions.data.loc[:,200.0,:].transpose())\n",
    "hgfd.plot()\n",
    "\n",
    "fname = './test_data/aerosols_physics_hygroscopicity_growth_mode.csv'\n",
    "growth_mode_soll = pd.read_csv(fname, index_col=0)\n",
    "\n",
    "threshold = growth_mode_soll.ratio.sum() * 1e-5\n",
    "res = np.abs(hgfd.growth_modes_gf.ratio - growth_mode_soll.ratio).sum() < threshold\n",
    "print(np.abs(hgfd.growth_modes_gf.ratio - growth_mode_soll.ratio).sum(), threshold, res)\n",
    "\n",
    "threshold = growth_mode_soll.gf.sum() * 1e-7\n",
    "res = np.abs(hgfd.growth_modes_gf.gf - growth_mode_soll.gf).sum()< threshold\n",
    "print(np.abs(hgfd.growth_modes_gf.gf - growth_mode_soll.gf).sum(), threshold, res)\n",
    "\n",
    "#######\n",
    "fname = './test_data/aerosols_physics_hygroscopicity_mixing_state.csv'\n",
    "mixing_state_soll = pd.read_csv(fname, index_col=0)\n",
    "\n",
    "threshold = mixing_state_soll.mixing_state.sum() * 1e-6\n",
    "res = np.abs(hgfd.mixing_state.mixing_state - mixing_state_soll.mixing_state).sum() < threshold\n",
    "print(np.abs(hgfd.mixing_state.mixing_state - mixing_state_soll.mixing_state).sum(), threshold, res)"
   ]
  },
  {
   "cell_type": "code",
   "execution_count": 183,
   "metadata": {
    "ExecuteTime": {
     "end_time": "2016-12-22T17:48:35.686939",
     "start_time": "2016-12-22T17:48:35.642518"
    },
    "deletable": false,
    "editable": false,
    "run_control": {
     "frozen": true
    }
   },
   "outputs": [],
   "source": [
    "fname = './test_data/aerosols_physics_hygroscopicity_growth_mode.csv'\n",
    "hgfd.growth_modes.to_csv(fname)"
   ]
  },
  {
   "cell_type": "code",
   "execution_count": 184,
   "metadata": {
    "ExecuteTime": {
     "end_time": "2016-12-22T17:49:29.714369",
     "start_time": "2016-12-22T17:49:29.673858"
    },
    "collapsed": true,
    "deletable": false,
    "editable": false,
    "run_control": {
     "frozen": true
    }
   },
   "outputs": [],
   "source": [
    "fname = './test_data/aerosols_physics_hygroscopicity_mixing_state.csv'\n",
    "hgfd.mixing_state.to_csv(fname)"
   ]
  },
  {
   "cell_type": "markdown",
   "metadata": {},
   "source": [
    "### f of RH"
   ]
  },
  {
   "cell_type": "markdown",
   "metadata": {},
   "source": [
    "#### kappa"
   ]
  },
  {
   "cell_type": "code",
   "execution_count": 4,
   "metadata": {
    "ExecuteTime": {
     "end_time": "2017-02-24T10:37:31.701656",
     "start_time": "2017-02-24T10:37:31.691136"
    }
   },
   "outputs": [],
   "source": [
    "from atmPy.data_archives import arm\n",
    "%matplotlib inline\n",
    "plt.style.use('hagen_default')"
   ]
  },
  {
   "cell_type": "code",
   "execution_count": 5,
   "metadata": {
    "ExecuteTime": {
     "end_time": "2017-02-24T10:38:44.685501",
     "start_time": "2017-02-24T10:37:32.115531"
    },
    "run_control": {
     "marked": false
    }
   },
   "outputs": [
    {
     "name": "stderr",
     "output_type": "stream",
     "text": [
      "/Users/htelg/prog/atm-py/atmPy/aerosols/instruments/AMS/AMS.py:63: UserWarning: Sulfate rich is not implemented yet. Mostly because I don't get it!\n",
      "         There are not supposed to be any Nitrates or Chlorides present when we are in the sulfate rich regime ... but there are.\n",
      "         I guess it has to do with the organics? Talk to chuck\n",
      "  _warnings.warn(txt)\n",
      "/Users/htelg/prog/atm-py/atmPy/aerosols/physics/optical_properties.py:112: RuntimeWarning: invalid value encountered in true_divide\n",
      "  y_phase_func = y_1p * 4 * _np.pi / scattering_cross_eff.sum()\n"
     ]
    },
    {
     "data": {
      "text/plain": [
       "False"
      ]
     },
     "execution_count": 5,
     "metadata": {},
     "output_type": "execute_result"
    }
   ],
   "source": [
    "fname = 'test_data/sgptdmaapssizeC1.c1.20120601.004227.cdf'\n",
    "tdmaaps = arm.read_netCDF(fname, data_quality= 'patchy', leave_cdf_open= False)\n",
    "sd = tdmaaps.size_distribution\n",
    "\n",
    "fname = 'test_data/sgpaosacsmC1.b1.20120601.002649.cdf'\n",
    "acsm = arm.read_netCDF(fname, data_quality= 'patchy', leave_cdf_open= False)\n",
    "\n",
    "sd.parameters4reductions.refractive_index = acsm.refractive_index\n",
    "\n",
    "sd.hygroscopicity.parameters.kappa = 0.6\n",
    "sd.optical_properties.parameters.wavelength = 550\n",
    "sd.optical_properties.parameters.refractive_index = 1.5\n",
    "\n",
    "fname = './test_data/aerosols_physics_hygroscopicity_fRH_kappa.csv'\n",
    "fRHk_soll = atmPy.read_file.netCDF(fname)\n",
    "\n",
    "threshold = sd.hygroscopicity.f_RH_85_40.data.sum().values[0] * 1e-10\n",
    "np.abs(sd.hygroscopicity.f_RH_85_40.data - fRHk_soll.data).sum().values[0] < threshold"
   ]
  },
  {
   "cell_type": "code",
   "execution_count": 8,
   "metadata": {
    "ExecuteTime": {
     "end_time": "2017-02-24T10:40:02.286066",
     "start_time": "2017-02-24T10:40:01.916312"
    }
   },
   "outputs": [
    {
     "data": {
      "text/plain": [
       "<matplotlib.axes._subplots.AxesSubplot at 0x110ac1048>"
      ]
     },
     "execution_count": 8,
     "metadata": {},
     "output_type": "execute_result"
    },
    {
     "data": {
      "image/png": "[encoded data removed]",
      "text/plain": [
       "<matplotlib.figure.Figure at 0x11499ccc0>"
      ]
     },
     "metadata": {},
     "output_type": "display_data"
    }
   ],
   "source": [
    "a = sd.hygroscopicity.f_RH_85_40.plot()\n",
    "fRHk_soll.plot(ax = a)"
   ]
  },
  {
   "cell_type": "code",
   "execution_count": null,
   "metadata": {
    "collapsed": true
   },
   "outputs": [],
   "source": []
  },
  {
   "cell_type": "code",
   "execution_count": 9,
   "metadata": {
    "ExecuteTime": {
     "end_time": "2017-02-24T10:40:13.341729",
     "start_time": "2017-02-24T10:40:13.218996"
    },
    "collapsed": true,
    "deletable": false,
    "editable": false,
    "run_control": {
     "frozen": true
    }
   },
   "outputs": [],
   "source": [
    "fname = './test_data/aerosols_physics_hygroscopicity_fRH_kappa.csv'\n",
    "sd.hygroscopicity.f_RH_85_40.save_netCDF(fname)"
   ]
  },
  {
   "cell_type": "markdown",
   "metadata": {},
   "source": [
    "\n",
    "#### growth distribution"
   ]
  },
  {
   "cell_type": "code",
   "execution_count": 2,
   "metadata": {
    "ExecuteTime": {
     "end_time": "2017-02-24T10:40:37.379591",
     "start_time": "2017-02-24T10:40:37.368738"
    },
    "collapsed": true
   },
   "outputs": [],
   "source": [
    "from atmPy.data_archives import arm\n",
    "import atmPy\n",
    "%matplotlib inline\n",
    "plt.style.use('hagen_default')"
   ]
  },
  {
   "cell_type": "code",
   "execution_count": 3,
   "metadata": {
    "ExecuteTime": {
     "end_time": "2017-02-24T10:44:06.621185",
     "start_time": "2017-02-24T10:40:37.601094"
    }
   },
   "outputs": [
    {
     "name": "stderr",
     "output_type": "stream",
     "text": [
      "/Users/htelg/prog/atm-py/atmPy/aerosols/instruments/AMS/AMS.py:63: UserWarning: Sulfate rich is not implemented yet. Mostly because I don't get it!\n",
      "         There are not supposed to be any Nitrates or Chlorides present when we are in the sulfate rich regime ... but there are.\n",
      "         I guess it has to do with the organics? Talk to chuck\n",
      "  _warnings.warn(txt)\n",
      "/Users/htelg/prog/atm-py/atmPy/aerosols/physics/optical_properties.py:112: RuntimeWarning: invalid value encountered in true_divide\n",
      "  y_phase_func = y_1p * 4 * _np.pi / scattering_cross_eff.sum()\n"
     ]
    },
    {
     "data": {
      "text/plain": [
       "True"
      ]
     },
     "execution_count": 3,
     "metadata": {},
     "output_type": "execute_result"
    }
   ],
   "source": [
    "fname = 'test_data/sgptdmaapssizeC1.c1.20120601.004227.cdf'\n",
    "tdmaaps = arm.read_netCDF(fname, data_quality= 'patchy', leave_cdf_open= False)\n",
    "sd = tdmaaps.size_distribution\n",
    "\n",
    "fname = 'test_data/sgpaosacsmC1.b1.20120601.002649.cdf'\n",
    "acsm = arm.read_netCDF(fname, data_quality= 'patchy', leave_cdf_open= False)\n",
    "\n",
    "sd.parameters4reductions.refractive_index = acsm.refractive_index\n",
    "\n",
    "fname = 'test_data/sgptdmahygC1.b1.20120601.004227.cdf'\n",
    "out = arm.read_netCDF(fname, data_quality= 'patchy', leave_cdf_open= False)\n",
    "hgfd = out.hyg_distributions_d200nm\n",
    "sd.hygroscopicity.parameters.growth_distribution = hgfd\n",
    "sd.optical_properties.parameters.wavelength = 550\n",
    "\n",
    "# sd.hygroscopicity.parameters.RH = 85\n",
    "\n",
    "fname = './test_data/aerosol_fRH_from_size_dist_and_growthdistribution.cdf'\n",
    "fRH_gd_soll  = atmPy.read_file.netCDF(fname)\n",
    "\n",
    "threshold = sd.hygroscopicity.f_RH_85_40.data.sum().values[0] * 1e-5\n",
    "np.abs(sd.hygroscopicity.f_RH_85_40.data - fRH_gd_soll.data).sum().values[0] < threshold"
   ]
  },
  {
   "cell_type": "code",
   "execution_count": 4,
   "metadata": {
    "ExecuteTime": {
     "end_time": "2017-02-24T10:44:06.902658",
     "start_time": "2017-02-24T10:44:06.624053"
    }
   },
   "outputs": [
    {
     "data": {
      "text/plain": [
       "<matplotlib.axes._subplots.AxesSubplot at 0x1127dce80>"
      ]
     },
     "execution_count": 4,
     "metadata": {},
     "output_type": "execute_result"
    },
    {
     "data": {
      "image/png": "[encoded data removed]",
      "text/plain": [
       "<matplotlib.figure.Figure at 0x10dccef98>"
      ]
     },
     "metadata": {},
     "output_type": "display_data"
    }
   ],
   "source": [
    "a = sd.hygroscopicity.f_RH_85_40.plot()\n",
    "fRH_gd_soll.plot(ax = a)"
   ]
  },
  {
   "cell_type": "code",
   "execution_count": 10,
   "metadata": {
    "ExecuteTime": {
     "end_time": "2017-02-21T13:34:48.749320",
     "start_time": "2017-02-21T13:34:48.458081"
    },
    "collapsed": true,
    "deletable": false,
    "editable": false,
    "run_control": {
     "frozen": true
    }
   },
   "outputs": [],
   "source": [
    "fname = './test_data/aerosol_fRH_from_size_dist_and_growthdistribution.cdf'\n",
    "sd.hygroscopicity.f_RH_85_40.save_netCDF(fname)"
   ]
  },
  {
   "cell_type": "code",
   "execution_count": null,
   "metadata": {
    "collapsed": true
   },
   "outputs": [],
   "source": []
  },
  {
   "cell_type": "code",
   "execution_count": null,
   "metadata": {
    "collapsed": true
   },
   "outputs": [],
   "source": []
  },
  {
   "cell_type": "code",
   "execution_count": null,
   "metadata": {
    "collapsed": true
   },
   "outputs": [],
   "source": []
  }
 ],
 "metadata": {
  "hide_input": false,
  "kernelspec": {
   "display_name": "Python 3",
   "language": "python",
   "name": "python3"
  },
  "language_info": {
   "codemirror_mode": {
    "name": "ipython",
    "version": 3
   },
   "file_extension": ".py",
   "mimetype": "text/x-python",
   "name": "python",
   "nbconvert_exporter": "python",
   "pygments_lexer": "ipython3",
   "version": "3.6.4"
  },
  "nav_menu": {},
  "notify_time": "5",
  "toc": {
   "nav_menu": {
    "height": "372px",
    "width": "252px"
   },
   "number_sections": true,
   "sideBar": true,
   "skip_h1_title": false,
   "toc_cell": false,
   "toc_position": {},
   "toc_section_display": "block",
   "toc_window_display": true
  },
  "toc_position": {
   "height": "854px",
   "left": "0px",
   "right": "1706px",
   "top": "106px",
   "width": "212px"
  }
 },
 "nbformat": 4,
 "nbformat_minor": 1
}
