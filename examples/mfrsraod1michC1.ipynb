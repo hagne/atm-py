{
 "cells": [
  {
   "cell_type": "code",
   "execution_count": null,
   "metadata": {},
   "outputs": [],
   "source": []
  },
  {
   "cell_type": "code",
   "execution_count": null,
   "metadata": {},
   "outputs": [],
   "source": []
  },
  {
   "cell_type": "code",
   "execution_count": 172,
   "metadata": {
    "ExecuteTime": {
     "end_time": "2018-12-11T00:25:51.815133Z",
     "start_time": "2018-12-11T00:25:51.809899Z"
    }
   },
   "outputs": [],
   "source": [
    "import numpy as _np\n",
    "import xarray as _xr\n",
    "from atmPy.data_archives.arm import _tools\n",
    "from atmPy.data_archives.arm import sites as armsites\n",
    "from atmPy.aerosols.size_distribution import sizedistribution as _sd\n",
    "from atmPy.general import timeseries as _ts\n",
    "import atmPy"
   ]
  },
  {
   "cell_type": "code",
   "execution_count": 173,
   "metadata": {
    "ExecuteTime": {
     "end_time": "2018-12-11T00:25:56.971584Z",
     "start_time": "2018-12-11T00:25:56.953590Z"
    }
   },
   "outputs": [],
   "source": [
    "def open_path(path, window = None, average = None, verbose = True):\n",
    "    \"\"\"\n",
    "\n",
    "    Parameters\n",
    "    ----------\n",
    "    path\n",
    "    start_time\n",
    "    end_time\n",
    "    average: tuple [None]\n",
    "        The purpose of this is to keep the memory usage low in case a lower reolution is required. E.g. (60, 's')\n",
    "\n",
    "    Returns\n",
    "    -------\n",
    "\n",
    "    \"\"\"\n",
    "    def read_aosaps(file, verbose = False):\n",
    "        ds = _xr.open_dataset(file, autoclose=True)\n",
    "        aods = pd.DataFrame()\n",
    "        wavelengths = pd.DataFrame()\n",
    "        for i in range(1,6):\n",
    "            aod = ds['aerosol_optical_depth_filter{}'.format(i)].to_pandas()\n",
    "            wl_measured = ds.attrs['filter{}_CWL_measured'.format(i)]\n",
    "            wl_nominal = ds.attrs['filter{}_CWL_nominal'.format(i)]\n",
    "            aods[wl_nominal] = aod\n",
    "            wls  = {'wl_measured': float(wl_measured.split()[0]),\n",
    "             'wl_nominal': float(wl_nominal.split()[0])}\n",
    "            wavelengths = wavelengths.append(pd.DataFrame(wls, index = [i]), sort = True)\n",
    "        wavelengths.index.name = 'filter'\n",
    "\n",
    "        out = {}\n",
    "        out['aods'] = aods\n",
    "        out['wavelengths'] = wavelengths\n",
    "        if verbose:\n",
    "            pass\n",
    "        return out\n",
    "\n",
    "    # start_time, end_time  = window\n",
    "    files = _tools.path2filelist(path=path, window = window, product='mfrsraod1mich', suffix='.cdf')\n",
    "    if verbose:\n",
    "        print('Opening {} files.'.format(len(files)))\n",
    "        print(_tools.path2info(files[0]))\n",
    "    \n",
    "    data_dist = None\n",
    "    for file in files:\n",
    "        out = read_aosaps(file)\n",
    "#         return out\n",
    "#         break\n",
    "        ddt = _ts.TimeSeries(out['aods'])\n",
    "        if average:\n",
    "            ddt = ddt.average_time(average)\n",
    "        ddt = ddt.data\n",
    "        if isinstance(data_dist, type(None)):\n",
    "            data_dist = ddt\n",
    "            wavelengths = out['wavelengths']\n",
    "        else:\n",
    "            data_dist = data_dist.append(ddt, sort=True)\n",
    "            # make sure wavelength did not change\n",
    "            assert (_np.all(_np.equal(wavelengths, out['wavelengths'])))\n",
    "\n",
    "#     dist = _sd.SizeDist_TS(data_dist, binedges, 'dNdlogDp', ignore_data_gap_error=True)\n",
    "    dist = _ts.TimeSeries(data_dist)\n",
    "    dist.file_info = _tools.path2info(files[0])\n",
    "    dist.site = armsites.site_from_file_info(dist.file_info)\n",
    "#     dist.site_info = [site for site in atmPy.data_archives.arm.sites.sites_list if site['Site Code'] == dist.file_info['site'] and dist.file_info['facility'] == facility][0]\n",
    "#     dist.site = atmPy.general.measurement_site.Station(**site_info)\n",
    "    return dist"
   ]
  },
  {
   "cell_type": "code",
   "execution_count": 174,
   "metadata": {
    "ExecuteTime": {
     "end_time": "2018-12-11T00:25:57.487146Z",
     "start_time": "2018-12-11T00:25:57.480717Z"
    }
   },
   "outputs": [
    {
     "data": {
      "text/plain": [
       "<module 'atmPy.data_archives.arm._tools' from '/Users/htelg/prog/atm-py/atmPy/data_archives/arm/_tools.py'>"
      ]
     },
     "execution_count": 174,
     "metadata": {},
     "output_type": "execute_result"
    }
   ],
   "source": [
    "reload(atmPy.data_archives.arm._tools)"
   ]
  },
  {
   "cell_type": "code",
   "execution_count": 177,
   "metadata": {
    "ExecuteTime": {
     "end_time": "2018-12-11T00:26:19.159188Z",
     "start_time": "2018-12-11T00:26:18.801824Z"
    }
   },
   "outputs": [
    {
     "name": "stdout",
     "output_type": "stream",
     "text": [
      "Opening 2 files.\n",
      "{'suffix': '.cdf', 'product': 'mfrsraod1mich', 'facility': 'C1', 'site': 'sgp', 'timestamp': Timestamp('2016-11-15 00:00:00'), 'qc_level': 's1'}\n"
     ]
    }
   ],
   "source": [
    "fname = '/Volumes/HTelg_4TB_Backup/arm_data/SGP/mfrsraod1michC1.s1/'\n",
    "ds = open_path(fname, window=('20161115', '20161116'))\n",
    "# atmPy.data_archives.arm._tools.path2filelist(fname, verbose=True, suffix='.cdf')"
   ]
  },
  {
   "cell_type": "code",
   "execution_count": 176,
   "metadata": {
    "ExecuteTime": {
     "end_time": "2018-12-11T00:26:16.035061Z",
     "start_time": "2018-12-11T00:26:16.025251Z"
    }
   },
   "outputs": [
    {
     "data": {
      "text/plain": [
       "<module 'atmPy.data_archives.arm.sites' from '/Users/htelg/prog/atm-py/atmPy/data_archives/arm/sites.py'>"
      ]
     },
     "execution_count": 176,
     "metadata": {},
     "output_type": "execute_result"
    }
   ],
   "source": [
    "reload(atmPy.data_archives.arm.sites)"
   ]
  },
  {
   "cell_type": "code",
   "execution_count": 164,
   "metadata": {
    "ExecuteTime": {
     "end_time": "2018-12-11T00:22:47.695548Z",
     "start_time": "2018-12-11T00:22:47.690238Z"
    }
   },
   "outputs": [],
   "source": [
    "def site_from_file_info(file_info):\n",
    "    site_info = [site for site in atmPy.data_archives.arm.sites.sites_list if site['Site Code'].upper() == file_info['site'].upper() and site['facility'] == file_info['facility']][0]\n",
    "    site = atmPy.general.measurement_site.Station(**site_info)\n",
    "    return site"
   ]
  },
  {
   "cell_type": "code",
   "execution_count": 167,
   "metadata": {
    "ExecuteTime": {
     "end_time": "2018-12-11T00:23:06.336823Z",
     "start_time": "2018-12-11T00:23:06.331909Z"
    }
   },
   "outputs": [
    {
     "data": {
      "text/plain": [
       "-97.485"
      ]
     },
     "execution_count": 167,
     "metadata": {},
     "output_type": "execute_result"
    }
   ],
   "source": [
    "site_from_file_info(ds.file_info).lon"
   ]
  },
  {
   "cell_type": "code",
   "execution_count": 111,
   "metadata": {
    "ExecuteTime": {
     "end_time": "2018-12-10T23:49:23.864084Z",
     "start_time": "2018-12-10T23:49:23.858197Z"
    }
   },
   "outputs": [],
   "source": [
    "from atmPy.aerosols.physics import column_optical_properties"
   ]
  },
  {
   "cell_type": "code",
   "execution_count": 129,
   "metadata": {
    "ExecuteTime": {
     "end_time": "2018-12-11T00:06:50.470579Z",
     "start_time": "2018-12-11T00:06:50.458269Z"
    }
   },
   "outputs": [
    {
     "data": {
      "text/plain": [
       "<module 'atmPy.data_archives.arm.sites' from '/Users/htelg/prog/atm-py/atmPy/data_archives/arm/sites.py'>"
      ]
     },
     "execution_count": 129,
     "metadata": {},
     "output_type": "execute_result"
    }
   ],
   "source": [
    "reload(column_optical_properties)\n",
    "reload(atmPy.data_archives.arm.sites)"
   ]
  },
  {
   "cell_type": "code",
   "execution_count": 130,
   "metadata": {
    "ExecuteTime": {
     "end_time": "2018-12-11T00:06:57.184783Z",
     "start_time": "2018-12-11T00:06:57.179343Z"
    }
   },
   "outputs": [
    {
     "data": {
      "text/plain": [
       "<atmPy.aerosols.physics.column_optical_properties.AOD_AOT at 0x1d1d1f8588>"
      ]
     },
     "execution_count": 130,
     "metadata": {},
     "output_type": "execute_result"
    }
   ],
   "source": [
    "column_optical_properties.AOD_AOT()"
   ]
  },
  {
   "cell_type": "code",
   "execution_count": 132,
   "metadata": {
    "ExecuteTime": {
     "end_time": "2018-12-11T00:09:14.647991Z",
     "start_time": "2018-12-11T00:09:14.641127Z"
    }
   },
   "outputs": [
    {
     "data": {
      "text/plain": [
       "[{'active': True,\n",
       "  'Site Code': 'SGP',\n",
       "  'lat': 36.605,\n",
       "  'lon': -97.485,\n",
       "  'Surface Type': 'Rangeland (Sandy)',\n",
       "  'name': 'Central Facility, Lamont, OK',\n",
       "  'alt': 318.0,\n",
       "  'facility': 'C1',\n",
       "  'abbreviation': 'C1'}]"
      ]
     },
     "execution_count": 132,
     "metadata": {},
     "output_type": "execute_result"
    }
   ],
   "source": [
    "sitec = 'SGP'\n",
    "facility = 'C1'\n",
    "[site for site in atmPy.data_archives.arm.sites.sites_list if site['Site Code'] == sitec and site['facility'] == facility]"
   ]
  },
  {
   "cell_type": "code",
   "execution_count": 128,
   "metadata": {
    "ExecuteTime": {
     "end_time": "2018-12-11T00:06:23.913764Z",
     "start_time": "2018-12-11T00:06:23.907975Z"
    }
   },
   "outputs": [
    {
     "data": {
      "text/plain": [
       "{'active': False,\n",
       " 'Site Code': 'SGP',\n",
       " 'lat': 37.627,\n",
       " 'lon': -96.538,\n",
       " 'Surface Type': 'Awaiting information',\n",
       " 'name': 'Beaumont, KS (ABLE)',\n",
       " 'alt': 0.0,\n",
       " 'facility': 'A2',\n",
       " 'abbreviation': 'A2'}"
      ]
     },
     "execution_count": 128,
     "metadata": {},
     "output_type": "execute_result"
    }
   ],
   "source": [
    "site = atmPy.data_archives.arm.sites.sites_list[1]\n",
    "site['facility'] == facility"
   ]
  },
  {
   "cell_type": "code",
   "execution_count": null,
   "metadata": {},
   "outputs": [],
   "source": []
  },
  {
   "cell_type": "code",
   "execution_count": null,
   "metadata": {},
   "outputs": [],
   "source": []
  },
  {
   "cell_type": "code",
   "execution_count": null,
   "metadata": {},
   "outputs": [],
   "source": []
  },
  {
   "cell_type": "code",
   "execution_count": null,
   "metadata": {},
   "outputs": [],
   "source": []
  },
  {
   "cell_type": "code",
   "execution_count": null,
   "metadata": {},
   "outputs": [],
   "source": []
  },
  {
   "cell_type": "code",
   "execution_count": null,
   "metadata": {},
   "outputs": [],
   "source": []
  },
  {
   "cell_type": "code",
   "execution_count": null,
   "metadata": {},
   "outputs": [],
   "source": []
  },
  {
   "cell_type": "code",
   "execution_count": null,
   "metadata": {},
   "outputs": [],
   "source": []
  },
  {
   "cell_type": "code",
   "execution_count": null,
   "metadata": {},
   "outputs": [],
   "source": []
  },
  {
   "cell_type": "markdown",
   "metadata": {},
   "source": [
    "# xarray"
   ]
  },
  {
   "cell_type": "code",
   "execution_count": 79,
   "metadata": {
    "ExecuteTime": {
     "end_time": "2018-12-10T23:26:54.480374Z",
     "start_time": "2018-12-10T23:26:54.369011Z"
    }
   },
   "outputs": [],
   "source": [
    "fname = '/Volumes/HTelg_4TB_Backup/arm_data/SGP/mfrsraod1michC1.s1/sgpmfrsraod1michC1.s1.20161115.000000.cdf'\n",
    "ds = xr.open_dataset(fname)"
   ]
  },
  {
   "cell_type": "code",
   "execution_count": 88,
   "metadata": {
    "ExecuteTime": {
     "end_time": "2018-12-10T23:28:55.115985Z",
     "start_time": "2018-12-10T23:28:55.077346Z"
    },
    "scrolled": false
   },
   "outputs": [
    {
     "data": {
      "text/html": [
       "<div>\n",
       "<style scoped>\n",
       "    .dataframe tbody tr th:only-of-type {\n",
       "        vertical-align: middle;\n",
       "    }\n",
       "\n",
       "    .dataframe tbody tr th {\n",
       "        vertical-align: top;\n",
       "    }\n",
       "\n",
       "    .dataframe thead th {\n",
       "        text-align: right;\n",
       "    }\n",
       "</style>\n",
       "<table border=\"1\" class=\"dataframe\">\n",
       "  <thead>\n",
       "    <tr style=\"text-align: right;\">\n",
       "      <th></th>\n",
       "      <th>bls</th>\n",
       "    </tr>\n",
       "    <tr>\n",
       "      <th>time</th>\n",
       "      <th></th>\n",
       "    </tr>\n",
       "  </thead>\n",
       "  <tbody>\n",
       "    <tr>\n",
       "      <th>2016-11-15 00:00:00</th>\n",
       "      <td>NaN</td>\n",
       "    </tr>\n",
       "    <tr>\n",
       "      <th>2016-11-15 00:00:20</th>\n",
       "      <td>NaN</td>\n",
       "    </tr>\n",
       "    <tr>\n",
       "      <th>2016-11-15 00:00:40</th>\n",
       "      <td>NaN</td>\n",
       "    </tr>\n",
       "    <tr>\n",
       "      <th>2016-11-15 00:01:00</th>\n",
       "      <td>NaN</td>\n",
       "    </tr>\n",
       "    <tr>\n",
       "      <th>2016-11-15 00:01:20</th>\n",
       "      <td>NaN</td>\n",
       "    </tr>\n",
       "    <tr>\n",
       "      <th>2016-11-15 00:01:40</th>\n",
       "      <td>NaN</td>\n",
       "    </tr>\n",
       "    <tr>\n",
       "      <th>2016-11-15 00:02:00</th>\n",
       "      <td>NaN</td>\n",
       "    </tr>\n",
       "    <tr>\n",
       "      <th>2016-11-15 00:02:20</th>\n",
       "      <td>NaN</td>\n",
       "    </tr>\n",
       "    <tr>\n",
       "      <th>2016-11-15 00:02:40</th>\n",
       "      <td>NaN</td>\n",
       "    </tr>\n",
       "    <tr>\n",
       "      <th>2016-11-15 00:03:00</th>\n",
       "      <td>NaN</td>\n",
       "    </tr>\n",
       "    <tr>\n",
       "      <th>2016-11-15 00:03:20</th>\n",
       "      <td>NaN</td>\n",
       "    </tr>\n",
       "    <tr>\n",
       "      <th>2016-11-15 00:03:40</th>\n",
       "      <td>NaN</td>\n",
       "    </tr>\n",
       "    <tr>\n",
       "      <th>2016-11-15 00:04:00</th>\n",
       "      <td>NaN</td>\n",
       "    </tr>\n",
       "    <tr>\n",
       "      <th>2016-11-15 00:04:20</th>\n",
       "      <td>NaN</td>\n",
       "    </tr>\n",
       "    <tr>\n",
       "      <th>2016-11-15 00:04:40</th>\n",
       "      <td>NaN</td>\n",
       "    </tr>\n",
       "    <tr>\n",
       "      <th>2016-11-15 00:05:00</th>\n",
       "      <td>NaN</td>\n",
       "    </tr>\n",
       "    <tr>\n",
       "      <th>2016-11-15 00:05:20</th>\n",
       "      <td>NaN</td>\n",
       "    </tr>\n",
       "    <tr>\n",
       "      <th>2016-11-15 00:05:40</th>\n",
       "      <td>NaN</td>\n",
       "    </tr>\n",
       "    <tr>\n",
       "      <th>2016-11-15 00:06:00</th>\n",
       "      <td>NaN</td>\n",
       "    </tr>\n",
       "    <tr>\n",
       "      <th>2016-11-15 00:06:20</th>\n",
       "      <td>NaN</td>\n",
       "    </tr>\n",
       "    <tr>\n",
       "      <th>2016-11-15 00:06:40</th>\n",
       "      <td>NaN</td>\n",
       "    </tr>\n",
       "    <tr>\n",
       "      <th>2016-11-15 00:07:00</th>\n",
       "      <td>NaN</td>\n",
       "    </tr>\n",
       "    <tr>\n",
       "      <th>2016-11-15 00:07:20</th>\n",
       "      <td>NaN</td>\n",
       "    </tr>\n",
       "    <tr>\n",
       "      <th>2016-11-15 00:07:40</th>\n",
       "      <td>NaN</td>\n",
       "    </tr>\n",
       "    <tr>\n",
       "      <th>2016-11-15 00:08:00</th>\n",
       "      <td>NaN</td>\n",
       "    </tr>\n",
       "    <tr>\n",
       "      <th>2016-11-15 00:08:20</th>\n",
       "      <td>NaN</td>\n",
       "    </tr>\n",
       "    <tr>\n",
       "      <th>2016-11-15 00:08:40</th>\n",
       "      <td>NaN</td>\n",
       "    </tr>\n",
       "    <tr>\n",
       "      <th>2016-11-15 00:09:00</th>\n",
       "      <td>NaN</td>\n",
       "    </tr>\n",
       "    <tr>\n",
       "      <th>2016-11-15 00:09:20</th>\n",
       "      <td>NaN</td>\n",
       "    </tr>\n",
       "    <tr>\n",
       "      <th>2016-11-15 00:09:40</th>\n",
       "      <td>NaN</td>\n",
       "    </tr>\n",
       "    <tr>\n",
       "      <th>...</th>\n",
       "      <td>...</td>\n",
       "    </tr>\n",
       "    <tr>\n",
       "      <th>2016-11-15 23:50:00</th>\n",
       "      <td>NaN</td>\n",
       "    </tr>\n",
       "    <tr>\n",
       "      <th>2016-11-15 23:50:20</th>\n",
       "      <td>NaN</td>\n",
       "    </tr>\n",
       "    <tr>\n",
       "      <th>2016-11-15 23:50:40</th>\n",
       "      <td>NaN</td>\n",
       "    </tr>\n",
       "    <tr>\n",
       "      <th>2016-11-15 23:51:00</th>\n",
       "      <td>NaN</td>\n",
       "    </tr>\n",
       "    <tr>\n",
       "      <th>2016-11-15 23:51:20</th>\n",
       "      <td>NaN</td>\n",
       "    </tr>\n",
       "    <tr>\n",
       "      <th>2016-11-15 23:51:40</th>\n",
       "      <td>NaN</td>\n",
       "    </tr>\n",
       "    <tr>\n",
       "      <th>2016-11-15 23:52:00</th>\n",
       "      <td>NaN</td>\n",
       "    </tr>\n",
       "    <tr>\n",
       "      <th>2016-11-15 23:52:20</th>\n",
       "      <td>NaN</td>\n",
       "    </tr>\n",
       "    <tr>\n",
       "      <th>2016-11-15 23:52:40</th>\n",
       "      <td>NaN</td>\n",
       "    </tr>\n",
       "    <tr>\n",
       "      <th>2016-11-15 23:53:00</th>\n",
       "      <td>NaN</td>\n",
       "    </tr>\n",
       "    <tr>\n",
       "      <th>2016-11-15 23:53:20</th>\n",
       "      <td>NaN</td>\n",
       "    </tr>\n",
       "    <tr>\n",
       "      <th>2016-11-15 23:53:40</th>\n",
       "      <td>NaN</td>\n",
       "    </tr>\n",
       "    <tr>\n",
       "      <th>2016-11-15 23:54:00</th>\n",
       "      <td>NaN</td>\n",
       "    </tr>\n",
       "    <tr>\n",
       "      <th>2016-11-15 23:54:20</th>\n",
       "      <td>NaN</td>\n",
       "    </tr>\n",
       "    <tr>\n",
       "      <th>2016-11-15 23:54:40</th>\n",
       "      <td>NaN</td>\n",
       "    </tr>\n",
       "    <tr>\n",
       "      <th>2016-11-15 23:55:00</th>\n",
       "      <td>NaN</td>\n",
       "    </tr>\n",
       "    <tr>\n",
       "      <th>2016-11-15 23:55:20</th>\n",
       "      <td>NaN</td>\n",
       "    </tr>\n",
       "    <tr>\n",
       "      <th>2016-11-15 23:55:40</th>\n",
       "      <td>NaN</td>\n",
       "    </tr>\n",
       "    <tr>\n",
       "      <th>2016-11-15 23:56:00</th>\n",
       "      <td>NaN</td>\n",
       "    </tr>\n",
       "    <tr>\n",
       "      <th>2016-11-15 23:56:20</th>\n",
       "      <td>NaN</td>\n",
       "    </tr>\n",
       "    <tr>\n",
       "      <th>2016-11-15 23:56:40</th>\n",
       "      <td>NaN</td>\n",
       "    </tr>\n",
       "    <tr>\n",
       "      <th>2016-11-15 23:57:00</th>\n",
       "      <td>NaN</td>\n",
       "    </tr>\n",
       "    <tr>\n",
       "      <th>2016-11-15 23:57:20</th>\n",
       "      <td>NaN</td>\n",
       "    </tr>\n",
       "    <tr>\n",
       "      <th>2016-11-15 23:57:40</th>\n",
       "      <td>NaN</td>\n",
       "    </tr>\n",
       "    <tr>\n",
       "      <th>2016-11-15 23:58:00</th>\n",
       "      <td>NaN</td>\n",
       "    </tr>\n",
       "    <tr>\n",
       "      <th>2016-11-15 23:58:20</th>\n",
       "      <td>NaN</td>\n",
       "    </tr>\n",
       "    <tr>\n",
       "      <th>2016-11-15 23:58:40</th>\n",
       "      <td>NaN</td>\n",
       "    </tr>\n",
       "    <tr>\n",
       "      <th>2016-11-15 23:59:00</th>\n",
       "      <td>NaN</td>\n",
       "    </tr>\n",
       "    <tr>\n",
       "      <th>2016-11-15 23:59:20</th>\n",
       "      <td>NaN</td>\n",
       "    </tr>\n",
       "    <tr>\n",
       "      <th>2016-11-15 23:59:40</th>\n",
       "      <td>NaN</td>\n",
       "    </tr>\n",
       "  </tbody>\n",
       "</table>\n",
       "<p>4319 rows × 1 columns</p>\n",
       "</div>"
      ],
      "text/plain": [
       "                     bls\n",
       "time                    \n",
       "2016-11-15 00:00:00  NaN\n",
       "2016-11-15 00:00:20  NaN\n",
       "2016-11-15 00:00:40  NaN\n",
       "2016-11-15 00:01:00  NaN\n",
       "2016-11-15 00:01:20  NaN\n",
       "2016-11-15 00:01:40  NaN\n",
       "2016-11-15 00:02:00  NaN\n",
       "2016-11-15 00:02:20  NaN\n",
       "2016-11-15 00:02:40  NaN\n",
       "2016-11-15 00:03:00  NaN\n",
       "2016-11-15 00:03:20  NaN\n",
       "2016-11-15 00:03:40  NaN\n",
       "2016-11-15 00:04:00  NaN\n",
       "2016-11-15 00:04:20  NaN\n",
       "2016-11-15 00:04:40  NaN\n",
       "2016-11-15 00:05:00  NaN\n",
       "2016-11-15 00:05:20  NaN\n",
       "2016-11-15 00:05:40  NaN\n",
       "2016-11-15 00:06:00  NaN\n",
       "2016-11-15 00:06:20  NaN\n",
       "2016-11-15 00:06:40  NaN\n",
       "2016-11-15 00:07:00  NaN\n",
       "2016-11-15 00:07:20  NaN\n",
       "2016-11-15 00:07:40  NaN\n",
       "2016-11-15 00:08:00  NaN\n",
       "2016-11-15 00:08:20  NaN\n",
       "2016-11-15 00:08:40  NaN\n",
       "2016-11-15 00:09:00  NaN\n",
       "2016-11-15 00:09:20  NaN\n",
       "2016-11-15 00:09:40  NaN\n",
       "...                  ...\n",
       "2016-11-15 23:50:00  NaN\n",
       "2016-11-15 23:50:20  NaN\n",
       "2016-11-15 23:50:40  NaN\n",
       "2016-11-15 23:51:00  NaN\n",
       "2016-11-15 23:51:20  NaN\n",
       "2016-11-15 23:51:40  NaN\n",
       "2016-11-15 23:52:00  NaN\n",
       "2016-11-15 23:52:20  NaN\n",
       "2016-11-15 23:52:40  NaN\n",
       "2016-11-15 23:53:00  NaN\n",
       "2016-11-15 23:53:20  NaN\n",
       "2016-11-15 23:53:40  NaN\n",
       "2016-11-15 23:54:00  NaN\n",
       "2016-11-15 23:54:20  NaN\n",
       "2016-11-15 23:54:40  NaN\n",
       "2016-11-15 23:55:00  NaN\n",
       "2016-11-15 23:55:20  NaN\n",
       "2016-11-15 23:55:40  NaN\n",
       "2016-11-15 23:56:00  NaN\n",
       "2016-11-15 23:56:20  NaN\n",
       "2016-11-15 23:56:40  NaN\n",
       "2016-11-15 23:57:00  NaN\n",
       "2016-11-15 23:57:20  NaN\n",
       "2016-11-15 23:57:40  NaN\n",
       "2016-11-15 23:58:00  NaN\n",
       "2016-11-15 23:58:20  NaN\n",
       "2016-11-15 23:58:40  NaN\n",
       "2016-11-15 23:59:00  NaN\n",
       "2016-11-15 23:59:20  NaN\n",
       "2016-11-15 23:59:40  NaN\n",
       "\n",
       "[4319 rows x 1 columns]"
      ]
     },
     "execution_count": 88,
     "metadata": {},
     "output_type": "execute_result"
    }
   ],
   "source": [
    "df = pd.DataFrame()\n",
    "df['bls'] = ds['aerosol_optical_depth_filter1'].to_pandas()\n",
    "df"
   ]
  },
  {
   "cell_type": "code",
   "execution_count": 12,
   "metadata": {
    "ExecuteTime": {
     "end_time": "2018-12-10T22:50:38.118230Z",
     "start_time": "2018-12-10T22:50:38.110625Z"
    }
   },
   "outputs": [
    {
     "data": {
      "text/plain": [
       "'414.7 nm'"
      ]
     },
     "execution_count": 12,
     "metadata": {},
     "output_type": "execute_result"
    }
   ],
   "source": [
    "ds.filter1_CWL_nominal"
   ]
  },
  {
   "cell_type": "code",
   "execution_count": 17,
   "metadata": {
    "ExecuteTime": {
     "end_time": "2018-12-10T22:53:34.876580Z",
     "start_time": "2018-12-10T22:53:34.866644Z"
    }
   },
   "outputs": [
    {
     "data": {
      "text/plain": [
       "time\n",
       "2016-11-15 00:00:00   NaN\n",
       "2016-11-15 00:00:20   NaN\n",
       "2016-11-15 00:00:40   NaN\n",
       "2016-11-15 00:01:00   NaN\n",
       "2016-11-15 00:01:20   NaN\n",
       "2016-11-15 00:01:40   NaN\n",
       "2016-11-15 00:02:00   NaN\n",
       "2016-11-15 00:02:20   NaN\n",
       "2016-11-15 00:02:40   NaN\n",
       "2016-11-15 00:03:00   NaN\n",
       "2016-11-15 00:03:20   NaN\n",
       "2016-11-15 00:03:40   NaN\n",
       "2016-11-15 00:04:00   NaN\n",
       "2016-11-15 00:04:20   NaN\n",
       "2016-11-15 00:04:40   NaN\n",
       "2016-11-15 00:05:00   NaN\n",
       "2016-11-15 00:05:20   NaN\n",
       "2016-11-15 00:05:40   NaN\n",
       "2016-11-15 00:06:00   NaN\n",
       "2016-11-15 00:06:20   NaN\n",
       "2016-11-15 00:06:40   NaN\n",
       "2016-11-15 00:07:00   NaN\n",
       "2016-11-15 00:07:20   NaN\n",
       "2016-11-15 00:07:40   NaN\n",
       "2016-11-15 00:08:00   NaN\n",
       "2016-11-15 00:08:20   NaN\n",
       "2016-11-15 00:08:40   NaN\n",
       "2016-11-15 00:09:00   NaN\n",
       "2016-11-15 00:09:20   NaN\n",
       "2016-11-15 00:09:40   NaN\n",
       "                       ..\n",
       "2016-11-15 23:50:00   NaN\n",
       "2016-11-15 23:50:20   NaN\n",
       "2016-11-15 23:50:40   NaN\n",
       "2016-11-15 23:51:00   NaN\n",
       "2016-11-15 23:51:20   NaN\n",
       "2016-11-15 23:51:40   NaN\n",
       "2016-11-15 23:52:00   NaN\n",
       "2016-11-15 23:52:20   NaN\n",
       "2016-11-15 23:52:40   NaN\n",
       "2016-11-15 23:53:00   NaN\n",
       "2016-11-15 23:53:20   NaN\n",
       "2016-11-15 23:53:40   NaN\n",
       "2016-11-15 23:54:00   NaN\n",
       "2016-11-15 23:54:20   NaN\n",
       "2016-11-15 23:54:40   NaN\n",
       "2016-11-15 23:55:00   NaN\n",
       "2016-11-15 23:55:20   NaN\n",
       "2016-11-15 23:55:40   NaN\n",
       "2016-11-15 23:56:00   NaN\n",
       "2016-11-15 23:56:20   NaN\n",
       "2016-11-15 23:56:40   NaN\n",
       "2016-11-15 23:57:00   NaN\n",
       "2016-11-15 23:57:20   NaN\n",
       "2016-11-15 23:57:40   NaN\n",
       "2016-11-15 23:58:00   NaN\n",
       "2016-11-15 23:58:20   NaN\n",
       "2016-11-15 23:58:40   NaN\n",
       "2016-11-15 23:59:00   NaN\n",
       "2016-11-15 23:59:20   NaN\n",
       "2016-11-15 23:59:40   NaN\n",
       "Length: 4319, dtype: float32"
      ]
     },
     "execution_count": 17,
     "metadata": {},
     "output_type": "execute_result"
    }
   ],
   "source": [
    "ds.aerosol_optical_depth_filter1.to_pandas()"
   ]
  },
  {
   "cell_type": "code",
   "execution_count": 55,
   "metadata": {
    "ExecuteTime": {
     "end_time": "2018-12-10T23:12:06.507223Z",
     "start_time": "2018-12-10T23:12:06.488419Z"
    }
   },
   "outputs": [],
   "source": [
    "aods = pd.DataFrame()\n",
    "wavelengths = pd.DataFrame()\n",
    "for i in range(1,6):\n",
    "    aod = ds.variables['aerosol_optical_depth_filter{}'.format(i)]\n",
    "    wl_measured = ds.attrs['filter{}_CWL_measured'.format(i)]\n",
    "    wl_nominal = ds.attrs['filter{}_CWL_nominal'.format(i)]\n",
    "    aods[wl_nominal] = aod\n",
    "    wls  = {'wl_measured': float(wl_measured.split()[0]),\n",
    "     'wl_nominal': float(wl_nominal.split()[0])}\n",
    "    wavelengths = wavelengths.append(pd.DataFrame(wls, index = [i]), sort = True)\n",
    "wavelengths.index.name = 'filter'\n"
   ]
  },
  {
   "cell_type": "code",
   "execution_count": 56,
   "metadata": {
    "ExecuteTime": {
     "end_time": "2018-12-10T23:12:06.735048Z",
     "start_time": "2018-12-10T23:12:06.726039Z"
    }
   },
   "outputs": [
    {
     "data": {
      "text/html": [
       "<div>\n",
       "<style scoped>\n",
       "    .dataframe tbody tr th:only-of-type {\n",
       "        vertical-align: middle;\n",
       "    }\n",
       "\n",
       "    .dataframe tbody tr th {\n",
       "        vertical-align: top;\n",
       "    }\n",
       "\n",
       "    .dataframe thead th {\n",
       "        text-align: right;\n",
       "    }\n",
       "</style>\n",
       "<table border=\"1\" class=\"dataframe\">\n",
       "  <thead>\n",
       "    <tr style=\"text-align: right;\">\n",
       "      <th></th>\n",
       "      <th>wl_measured</th>\n",
       "      <th>wl_nominal</th>\n",
       "    </tr>\n",
       "    <tr>\n",
       "      <th>filter</th>\n",
       "      <th></th>\n",
       "      <th></th>\n",
       "    </tr>\n",
       "  </thead>\n",
       "  <tbody>\n",
       "    <tr>\n",
       "      <th>1</th>\n",
       "      <td>414.7</td>\n",
       "      <td>415.0</td>\n",
       "    </tr>\n",
       "    <tr>\n",
       "      <th>2</th>\n",
       "      <td>497.0</td>\n",
       "      <td>500.0</td>\n",
       "    </tr>\n",
       "    <tr>\n",
       "      <th>3</th>\n",
       "      <td>614.1</td>\n",
       "      <td>615.0</td>\n",
       "    </tr>\n",
       "    <tr>\n",
       "      <th>4</th>\n",
       "      <td>671.1</td>\n",
       "      <td>673.0</td>\n",
       "    </tr>\n",
       "    <tr>\n",
       "      <th>5</th>\n",
       "      <td>867.6</td>\n",
       "      <td>870.0</td>\n",
       "    </tr>\n",
       "  </tbody>\n",
       "</table>\n",
       "</div>"
      ],
      "text/plain": [
       "        wl_measured  wl_nominal\n",
       "filter                         \n",
       "1             414.7       415.0\n",
       "2             497.0       500.0\n",
       "3             614.1       615.0\n",
       "4             671.1       673.0\n",
       "5             867.6       870.0"
      ]
     },
     "execution_count": 56,
     "metadata": {},
     "output_type": "execute_result"
    }
   ],
   "source": [
    "wavelengths"
   ]
  },
  {
   "cell_type": "code",
   "execution_count": 52,
   "metadata": {
    "ExecuteTime": {
     "end_time": "2018-12-10T23:10:58.494169Z",
     "start_time": "2018-12-10T23:10:58.488921Z"
    }
   },
   "outputs": [
    {
     "data": {
      "text/plain": [
       "867.6"
      ]
     },
     "execution_count": 52,
     "metadata": {},
     "output_type": "execute_result"
    }
   ],
   "source": [
    "float(wl_measured.split()[0])"
   ]
  },
  {
   "cell_type": "code",
   "execution_count": null,
   "metadata": {},
   "outputs": [],
   "source": []
  },
  {
   "cell_type": "code",
   "execution_count": 43,
   "metadata": {
    "ExecuteTime": {
     "end_time": "2018-12-10T23:09:07.865357Z",
     "start_time": "2018-12-10T23:09:07.855408Z"
    }
   },
   "outputs": [
    {
     "data": {
      "text/html": [
       "<div>\n",
       "<style scoped>\n",
       "    .dataframe tbody tr th:only-of-type {\n",
       "        vertical-align: middle;\n",
       "    }\n",
       "\n",
       "    .dataframe tbody tr th {\n",
       "        vertical-align: top;\n",
       "    }\n",
       "\n",
       "    .dataframe thead th {\n",
       "        text-align: right;\n",
       "    }\n",
       "</style>\n",
       "<table border=\"1\" class=\"dataframe\">\n",
       "  <thead>\n",
       "    <tr style=\"text-align: right;\">\n",
       "      <th></th>\n",
       "      <th>wl_measured</th>\n",
       "      <th>wl_nominal</th>\n",
       "    </tr>\n",
       "  </thead>\n",
       "  <tbody>\n",
       "    <tr>\n",
       "      <th>5</th>\n",
       "      <td>867.6 nm</td>\n",
       "      <td>870 nm</td>\n",
       "    </tr>\n",
       "  </tbody>\n",
       "</table>\n",
       "</div>"
      ],
      "text/plain": [
       "  wl_measured wl_nominal\n",
       "5    867.6 nm     870 nm"
      ]
     },
     "execution_count": 43,
     "metadata": {},
     "output_type": "execute_result"
    }
   ],
   "source": [
    "wls  = {'wl_measured': wl_measured,\n",
    " 'wl_nominal': wl_nominal}\n",
    "wavelengths.append(pd.DataFrame(wls, index = [i]), sort = True)"
   ]
  },
  {
   "cell_type": "code",
   "execution_count": 29,
   "metadata": {
    "ExecuteTime": {
     "end_time": "2018-12-10T23:02:17.812717Z",
     "start_time": "2018-12-10T23:02:17.326808Z"
    }
   },
   "outputs": [
    {
     "data": {
      "text/plain": [
       "<matplotlib.axes._subplots.AxesSubplot at 0x1d1a1266a0>"
      ]
     },
     "execution_count": 29,
     "metadata": {},
     "output_type": "execute_result"
    },
    {
     "data": {
      "image/png": "[encoded data removed]",
      "text/plain": [
       "<Figure size 432x288 with 1 Axes>"
      ]
     },
     "metadata": {
      "needs_background": "light"
     },
     "output_type": "display_data"
    }
   ],
   "source": [
    "aods.plot()"
   ]
  },
  {
   "cell_type": "code",
   "execution_count": null,
   "metadata": {},
   "outputs": [],
   "source": []
  }
 ],
 "metadata": {
  "hide_input": false,
  "kernelspec": {
   "display_name": "Python 3",
   "language": "python",
   "name": "python3"
  },
  "language_info": {
   "codemirror_mode": {
    "name": "ipython",
    "version": 3
   },
   "file_extension": ".py",
   "mimetype": "text/x-python",
   "name": "python",
   "nbconvert_exporter": "python",
   "pygments_lexer": "ipython3",
   "version": "3.6.7"
  },
  "toc": {
   "base_numbering": 1,
   "nav_menu": {},
   "number_sections": true,
   "sideBar": true,
   "skip_h1_title": false,
   "title_cell": "Table of Contents",
   "title_sidebar": "Contents",
   "toc_cell": false,
   "toc_position": {},
   "toc_section_display": true,
   "toc_window_display": false
  }
 },
 "nbformat": 4,
 "nbformat_minor": 2
}
